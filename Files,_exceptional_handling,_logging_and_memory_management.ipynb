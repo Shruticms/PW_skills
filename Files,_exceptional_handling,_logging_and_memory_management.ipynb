{
  "nbformat": 4,
  "nbformat_minor": 0,
  "metadata": {
    "colab": {
      "provenance": []
    },
    "kernelspec": {
      "name": "python3",
      "display_name": "Python 3"
    },
    "language_info": {
      "name": "python"
    }
  },
  "cells": [
    {
      "cell_type": "code",
      "execution_count": null,
      "metadata": {
        "id": "1k2AlDMsF0hT"
      },
      "outputs": [],
      "source": []
    },
    {
      "cell_type": "markdown",
      "source": [
        "# Python Fundamentals & Advanced Concepts Q&A\n",
        "\n",
        "**Prepared for:** [Your Name/Organization Name]\n",
        "**Date:** July 12, 2025\n",
        "\n",
        "---\n",
        "\n",
        "**Instructions for Printing:**\n",
        "1.  Copy all the text from \"---\" below this section.\n",
        "2.  Paste it into a new document in your preferred word processor (e.g., Microsoft Word, Google Docs, LibreOffice Writer).\n",
        "3.  Adjust fonts, spacing, or margins as desired.\n",
        "4.  Print the document.\n",
        "\n",
        "---\n",
        "\n",
        "### **1. What is the difference between interpreted and compiled languages?**\n",
        "\n",
        "**Answer:**\n",
        "* **Interpreted Languages:** Code is executed line by line by an interpreter program. The interpreter reads a statement, translates it, and executes it immediately. If an error occurs, it's typically found at runtime when that specific line is reached.\n",
        "    * *Examples:* Python, JavaScript, Ruby.\n",
        "* **Compiled Languages:** Code is translated entirely into machine-readable code (an executable file) by a compiler *before* execution. The entire program is compiled first, and then the compiled executable is run. Errors are typically found during the compilation phase.\n",
        "    * *Examples:* C, C++, Java (Java is often described as compiling to bytecode, which is then interpreted by the JVM).\n",
        "\n",
        "---\n",
        "\n",
        "### **2. What is exception handling in Python?**\n",
        "\n",
        "**Answer:** Exception handling in Python is a mechanism used to manage and respond to runtime errors or unexpected events (exceptions) that occur during the execution of a program. It allows the program to continue running gracefully instead of crashing when such an event happens.\n",
        "\n",
        "---\n",
        "\n",
        "### **3. What is the purpose of the `finally` block in exception handling?**\n",
        "\n",
        "**Answer:** The `finally` block in exception handling is used to define code that **will always be executed**, regardless of whether an exception occurred in the `try` block or if an `except` block handled an exception. It's typically used for crucial cleanup operations, such as closing files, releasing network connections, or freeing up resources, ensuring these actions happen deterministically.\n",
        "\n",
        "---\n",
        "\n",
        "### **4. What is logging in Python?**\n",
        "\n",
        "**Answer:** Logging in Python is a powerful and flexible way to track events that happen when software runs. It allows developers to record information about the program's execution, including debugging messages, errors, warnings, and general status updates, to various destinations like files, the console, or network services. This is crucial for debugging, monitoring, and understanding how an application behaves over time.\n",
        "\n",
        "---\n",
        "\n",
        "### **5. What is the significance of the `__del__` method in Python?**\n",
        "\n",
        "**Answer:** The `__del__` (destructor) method in Python is a special method that is called when an object is about to be \"destroyed\" or garbage-collected. Its significance lies in allowing objects to perform cleanup actions *before* they are removed from memory, such such as closing open files or releasing external resources the object might be holding. However, its use is generally discouraged for typical resource management because Python's garbage collector determines exactly *when* an object is destroyed, which can be unpredictable. The `with` statement and `finally` blocks are preferred for deterministic resource management.\n",
        "\n",
        "---\n",
        "\n",
        "### **6. What is the difference between `import` and `from ... import` in Python?**\n",
        "\n",
        "**Answer:**\n",
        "* **`import module_name`**: This statement imports the entire `module_name`. To use objects (functions, classes, variables) from this module, you must prefix them with `module_name.`.\n",
        "    * *Example:*\n",
        "        ```python\n",
        "        import math\n",
        "        print(math.pi)\n",
        "        ```\n",
        "* **`from module_name import object_name`**: This statement imports only the specified `object_name` (function, class, variable) directly into the current namespace. You can then use `object_name` directly without the module prefix.\n",
        "    * *Example:*\n",
        "        ```python\n",
        "        from math import pi\n",
        "        print(pi)\n",
        "        ```\n",
        "* **`from module_name import *`**: This imports *all* public objects from the module into the current namespace. This is generally discouraged in production code as it can lead to naming conflicts and make code harder to read and debug.\n",
        "\n",
        "---\n",
        "\n",
        "### **7. How can you handle multiple exceptions in Python?**\n",
        "\n",
        "**Answer:** You can handle multiple exceptions in Python in a few ways:\n",
        "* **Multiple `except` blocks:** You can list different exception types in separate `except` blocks.\n",
        "    ```python\n",
        "    try:\n",
        "        # code that might raise exceptions\n",
        "    except ValueError:\n",
        "        print(\"Caught a ValueError!\")\n",
        "    except TypeError:\n",
        "        print(\"Caught a TypeError!\")\n",
        "    ```\n",
        "* **Single `except` block with a tuple:** You can catch multiple exception types in a single `except` block by providing them as a tuple.\n",
        "    ```python\n",
        "    try:\n",
        "        # code that might raise exceptions\n",
        "    except (ValueError, TypeError) as e:\n",
        "        print(f\"Caught a ValueError or TypeError: {e}\")\n",
        "    ```\n",
        "\n",
        "---\n",
        "\n",
        "### **8. What is the purpose of the `with` statement when handling files in Python?**\n",
        "\n",
        "**Answer:** The `with` statement (often used with file handling: `with open(...) as file:`) ensures that a resource (like a file) is **properly managed**, specifically that it is **automatically closed** after its suite of code finishes, even if errors occur. It implicitly calls the `__enter__` and `__exit__` methods of the object, guaranteeing cleanup. This prevents resource leaks and makes code cleaner than manual `try...finally` blocks for closing files.\n",
        "\n",
        "---\n",
        "\n",
        "### **9. What is the difference between multithreading and multiprocessing?**\n",
        "\n",
        "**Answer:**\n",
        "* **Multithreading:** Involves multiple \"threads\" within a **single process**. Threads share the same memory space and resources. It's generally good for I/O-bound tasks (where the program waits for external operations), but in Python (due to the Global Interpreter Lock - GIL), it cannot achieve true parallel execution of CPU-bound tasks on multiple cores.\n",
        "* **Multiprocessing:** Involves multiple \"processes,\" each running in its **own separate memory space**. Processes do not share memory directly and communicate via inter-process communication (IPC) mechanisms. It's ideal for CPU-bound tasks, as processes can run truly in parallel on multiple CPU cores, bypassing the GIL.\n",
        "\n",
        "---\n",
        "\n",
        "### **10. What are the advantages of using logging in a program?**\n",
        "\n",
        "**Answer:** Advantages of using logging include:\n",
        "* **Debugging:** Helps track program flow and variable states, making it easier to find and diagnose bugs.\n",
        "* **Monitoring:** Provides insights into application behavior in production, identifying performance issues or unusual activity without direct user interaction.\n",
        "* **Error Reporting:** Records specific details about errors (timestamps, error messages, stack traces) without crashing the application, facilitating later analysis.\n",
        "* **Auditing/Compliance:** Can log important events for security audits or to meet compliance requirements.\n",
        "* **Flexibility:** Allows configuration of log levels (e.g., DEBUG, INFO, WARNING, ERROR, CRITICAL) to filter messages, and output to various destinations (console, files, email, network).\n",
        "* **Separation of Concerns:** Keeps debugging/monitoring code cleanly separated from core application logic.\n",
        "\n",
        "---\n",
        "\n",
        "### **11. What is memory management in Python?**\n",
        "\n",
        "**Answer:** Memory management in Python refers to the process by which Python handles the allocation and deallocation of memory for its objects. Python uses a private heap to manage objects and handles much of this automatically for the developer. Key aspects include:\n",
        "* **Reference Counting:** The primary mechanism, tracking how many references (variables, data structures, etc.) point to an object. When the count drops to zero, the object's memory can be reclaimed.\n",
        "* **Garbage Collection (Generational):** A more advanced mechanism that runs periodically to detect and collect \"reference cycles\" (objects that refer to each other but are no longer reachable by the program), which reference counting alone cannot handle.\n",
        "* **Memory Pools:** For smaller objects, Python uses specialized memory allocators (memory pools) to reduce overhead and improve performance.\n",
        "\n",
        "---\n",
        "\n",
        "### **12. What are the basic steps involved in exception handling in Python?**\n",
        "\n",
        "**Answer:** The basic steps involved in exception handling in Python using `try`, `except`, `else`, and `finally` are:\n",
        "1.  **`try` block:** This is where you place the code that *might* raise an exception.\n",
        "2.  **`except` block(s):** If an exception occurs within the `try` block, Python immediately looks for an `except` block that can handle that specific type of exception. The code within the matching `except` block is executed.\n",
        "3.  **`else` block (optional):** This block is executed *only if* no exception occurred in the `try` block. It's used for code that should run only when the `try` block completes successfully.\n",
        "4.  **`finally` block (optional):** This block is *always* executed, regardless of whether an exception occurred or was handled. It's typically used for crucial cleanup operations.\n",
        "\n",
        "---\n",
        "\n",
        "### **13. Why is memory management important in Python?**\n",
        "\n",
        "**Answer:** Memory management is important in Python for several reasons:\n",
        "* **Resource Efficiency:** Efficiently allocating and deallocating memory prevents unnecessary memory consumption, which is crucial for performance and scalability, especially in long-running applications or systems with limited resources.\n",
        "* **Stability & Reliability:** Proper memory management prevents issues like memory leaks (where memory is allocated but never freed, leading to eventual system slowdowns or crashes) and dangling pointers (accessing freed memory, leading to crashes or security vulnerabilities).\n",
        "* **Developer Productivity:** Python's automatic memory management (garbage collection) significantly reduces the burden on developers, allowing them to focus more on application logic rather than low-level memory handling, thus increasing productivity.\n",
        "* **Performance:** Optimized memory allocation and deallocation schemes (like memory pools) can improve the speed of creating and destroying objects.\n",
        "\n",
        "---\n",
        "\n",
        "### **14. What is the role of `try` and `except` in exception handling?**\n",
        "\n",
        "**Answer:**\n",
        "* **`try`:** The `try` block contains the code that is *monitored* for exceptions. If an error occurs within this block, Python will stop executing the `try` block and immediately jump to the `except` block.\n",
        "* **`except`:** The `except` block specifies what actions to take if a particular type of exception (or any exception if specified broadly) occurs within the corresponding `try` block. It allows the program to \"catch\" the error and execute alternative code to handle it gracefully, preventing the program from crashing.\n",
        "\n",
        "---\n",
        "\n",
        "### **15. How does Python's garbage collection system work?**\n",
        "\n",
        "**Answer:** Python's garbage collection system primarily works in two ways:\n",
        "1.  **Reference Counting (Primary):** Each object in Python has a reference count, which tracks how many references (variables, data structures, etc.) point to it. When an object's reference count drops to zero, it means no part of the program can access it anymore. Python's memory manager then immediately reclaims the memory occupied by that object.\n",
        "2.  **Generational Garbage Collection (for Cycles):** Reference counting alone cannot handle \"reference cycles\" (e.g., Object A refers to Object B, and Object B refers to Object A, but neither A nor B is referenced by anything else in the program). To address this, Python has a cyclic garbage collector that runs periodically. It divides objects into \"generations\" (new, old) and focuses more frequently on newer objects (which are more likely to become unreferenced quickly). It traces reachable objects and collects those involved in cycles that are no longer reachable from the main program.\n",
        "\n",
        "---\n",
        "\n",
        "### **16. What is the purpose of the `else` block in exception handling?**\n",
        "\n",
        "**Answer:** The `else` block in exception handling is an optional part of the `try...except` structure. Its purpose is to define code that **will only be executed if the code inside the `try` block runs completely without raising any exceptions.** It's useful for placing code that logically depends on the `try` block's successful execution, distinguishing it from cleanup code (which goes in `finally`) or error-handling code (which goes in `except`).\n",
        "\n",
        "---\n",
        "\n",
        "### **17. What are the common logging levels in Python?**\n",
        "\n",
        "**Answer:** Python's `logging` module defines several standard logging levels, ordered from lowest to highest severity:\n",
        "* **`DEBUG`**: Detailed information, typically of interest only when diagnosing problems.\n",
        "* **`INFO`**: Confirmation that things are working as expected.\n",
        "* **`WARNING`**: An indication that something unexpected happened, or indicative of some problem in the near future (e.g., 'disk space low'). The software is still working as expected.\n",
        "* **`ERROR`**: Due to a more serious problem, the software has not been able to perform some function.\n",
        "* **`CRITICAL`**: A serious error, indicating that the program itself may be unable to continue running.\n",
        "\n",
        "---\n",
        "\n",
        "### **18. What is the difference between `os.fork()` and `multiprocessing` in Python?**\n",
        "\n",
        "**Answer:**\n",
        "* **`os.fork()`**: This is a lower-level function (available on Unix-like systems) that creates a new process (child process) that is an exact copy of the parent process. It literally duplicates the parent's memory space. It provides fine-grained control but requires manual management of processes and inter-process communication. It's platform-dependent.\n",
        "* **`multiprocessing` module**: This is a higher-level, cross-platform module in Python's standard library. It provides a more user-friendly and robust way to create and manage processes, offering an API similar to the `threading` module. It handles much of the complexity of process creation, communication, and synchronization for you, making it the preferred method for parallel execution in Python. It uses `os.fork()` under the hood on Unix-like systems but uses other mechanisms on Windows.\n",
        "\n",
        "---\n",
        "\n",
        "### **19. What is the importance of closing a file in Python?**\n",
        "\n",
        "**Answer:** It is crucial to close a file in Python for several reasons:\n",
        "* **Resource Release:** When a file is opened, the operating system allocates resources (like file descriptors). Closing the file releases these resources, making them available for other parts of your program or other applications.\n",
        "* **Data Integrity/Persistence:** When you write data to a file, it's often buffered in memory first. Closing the file explicitly flushes these buffers, ensuring that all data is actually written and saved to disk, preventing data loss in case of program crashes or power failures.\n",
        "* **Preventing Corruption:** Leaving files open unnecessarily can sometimes lead to file corruption if other processes try to access or modify the same file.\n",
        "* **System Limits:** Operating systems have limits on the number of open files a process can have. Failing to close files can lead to exceeding these limits, causing further errors.\n",
        "* **Security:** Unclosed files can sometimes pose security risks, especially if they contain sensitive data. The `with` statement is the recommended way to handle files because it guarantees automatic closing.\n",
        "\n",
        "---\n",
        "\n",
        "### **20. What is the difference between `file.read()` and `file.readline()` in Python?**\n",
        "\n",
        "**Answer:** When reading from a file object (`file`):\n",
        "* **`file.read(size)`**: Reads the entire content of the file as a single string if `size` is not specified. If `size` is specified, it reads *up to* `size` number of characters (for text mode) or bytes (for binary mode) from the file. It returns the read content as a string (or bytes). The file pointer moves forward by the amount read.\n",
        "* **`file.readline(size)`**: Reads a single line from the file. A \"line\" is typically terminated by a newline character (`\\n`). If `size` is specified, it reads *up to* `size` characters/bytes *or* until the end of the line, whichever comes first. It returns the read line as a string (or bytes), including the newline character if present. The file pointer moves to the beginning of the next line.\n",
        "\n",
        "---\n",
        "\n",
        "### **21. What is the `logging` module in Python used for?**\n",
        "\n",
        "**Answer:** The `logging` module in Python is a standard library module that provides a flexible framework for emitting log messages from applications and libraries. Its primary uses are:\n",
        "* **Diagnostic Output:** Recording events, states, and variable values to help debug problems during development and deployment.\n",
        "* **Status Monitoring:** Tracking application health, performance, and user activity in production environments.\n",
        "* **Error Tracking:** Capturing detailed information about errors, including stack traces, to facilitate troubleshooting.\n",
        "* **Auditing:** Creating records of significant events for security or compliance purposes.\n",
        "* **Information Flow:** Providing a structured way to understand the flow of execution within complex systems. It allows developers to categorize messages by severity and direct them to various handlers (e.g., console, files, email, network).\n",
        "\n",
        "---\n",
        "\n",
        "### **22. What is the `os` module in Python used for in file handling?**\n",
        "\n",
        "**Answer:** The `os` module in Python provides a way of using operating system dependent functionality. In the context of file handling, it is used for tasks that go beyond simply opening and reading/writing file *content* (which `open()` does). Specifically, it's used for:\n",
        "* **Path Manipulation:** Joining paths (`os.path.join()`), getting base names (`os.path.basename()`), directory names (`os.path.dirname()`), checking if a path exists (`os.path.exists()`), checking if it's a file (`os.path.isfile()`) or directory (`os.path.isdir()`).\n",
        "* **Directory Operations:** Creating directories (`os.mkdir()`, `os.makedirs()`), deleting directories (`os.rmdir()`, `os.removedirs()`), changing the current working directory (`os.chdir()`), listing directory contents (`os.listdir()`).\n",
        "* **File Renaming/Deletion/Moving:** Renaming files or directories (`os.rename()`), deleting files (`os.remove()`, `os.unlink()`).\n",
        "* **Permissions and Metadata:** Changing file permissions (`os.chmod()`), getting file size, modification times (`os.stat()`).\n",
        "* **Environment Variables:** Accessing system environment variables (`os.environ`).\n",
        "While `open()` handles the content, `os` deals with the file system *itself* and file/directory metadata.\n",
        "\n",
        "# Python Fundamentals & Advanced Concepts Q&A\n",
        "\n",
        "**Prepared for:** [Your Name/Organization Name]\n",
        "**Date:** July 12, 2025\n",
        "\n",
        "---\n",
        "\n",
        "### **Instructions for Printing:**\n",
        "\n",
        "1.  **Copy All Text:** Select and copy all the text from the \"---\" below this section to the very end.\n",
        "2.  **Paste into a Document Editor:** Open a new document in your favorite word processor (e.g., Microsoft Word, Google Docs, LibreOffice Writer).\n",
        "3.  **Paste the Content:** Paste the copied text into the empty document.\n",
        "4.  **Adjust (Optional):** Feel free to adjust fonts, spacing, or margins to your preference.\n",
        "5.  **Print:** Print the document.\n",
        "\n",
        "---\n",
        "\n",
        "### **1. What's the difference between interpreted and compiled languages?**\n",
        "\n",
        "**Answer:**\n",
        "* **Interpreted Languages:** Code executes line by line via an interpreter program. The interpreter reads, translates, and executes each statement immediately. Errors are typically found at runtime when that specific line is reached.\n",
        "    * **Examples:** Python, JavaScript, Ruby.\n",
        "* **Compiled Languages:** Code is fully translated into machine-readable code (an executable file) by a compiler *before* execution. The entire program is compiled first, then the executable is run. Errors are usually found during the compilation phase.\n",
        "    * **Examples:** C, C++, Java (Java compiles to bytecode, which is then interpreted by the Java Virtual Machine).\n",
        "\n",
        "---\n",
        "\n",
        "### **2. What is exception handling in Python?**\n",
        "\n",
        "**Answer:** Exception handling in Python is a mechanism to manage and respond to runtime errors or unexpected events (called **exceptions**) that occur during program execution. It allows your program to continue running gracefully instead of crashing when an error happens.\n",
        "\n",
        "---\n",
        "\n",
        "### **3. What's the purpose of the `finally` block in exception handling?**\n",
        "\n",
        "**Answer:** The **`finally`** block in exception handling defines code that **will always be executed**, no matter what. This happens whether an exception occurred in the `try` block, or if an `except` block handled an exception, or even if no exception occurred at all. It's crucial for cleanup operations, like closing files or releasing network connections, ensuring resources are freed deterministically.\n",
        "\n",
        "---\n",
        "\n",
        "### **4. What is logging in Python?**\n",
        "\n",
        "**Answer:** Logging in Python is a powerful and flexible way to track events that occur as your software runs. It lets developers record information about the program's execution—like debug messages, errors, warnings, and status updates—to various destinations such as files, the console, or network services. This is vital for debugging, monitoring, and understanding application behavior over time.\n",
        "\n",
        "---\n",
        "\n",
        "### **5. What's the significance of the `__del__` method in Python?**\n",
        "\n",
        "**Answer:** The **`__del__`** (destructor) method is a special method called just before an object is destroyed or garbage-collected. Its significance lies in allowing objects to perform cleanup actions *before* being removed from memory (e.g., closing files). However, its use for deterministic resource management is generally discouraged due to the unpredictable timing of Python's garbage collector. The `with` statement and `finally` blocks are preferred for these tasks.\n",
        "\n",
        "---\n",
        "\n",
        "### **6. What's the difference between `import` and `from ... import` in Python?**\n",
        "\n",
        "**Answer:**\n",
        "* **`import module_name`**: Imports the entire module. You must use `module_name.` to access its contents.\n",
        "    ```python\n",
        "    import math\n",
        "    print(math.pi)\n",
        "    ```\n",
        "* **`from module_name import object_name`**: Imports only the specified object (function, class, variable) directly into your current namespace. You can then use the object name without the module prefix.\n",
        "    ```python\n",
        "    from math import pi\n",
        "    print(pi)\n",
        "    ```\n",
        "* **`from module_name import *`**: Imports all public objects from the module. Generally discouraged as it can lead to naming conflicts.\n",
        "\n",
        "---\n",
        "\n",
        "### **7. How can you handle multiple exceptions in Python?**\n",
        "\n",
        "**Answer:** You can handle multiple exceptions in Python by using:\n",
        "* **Multiple `except` blocks:**\n",
        "    ```python\n",
        "    try:\n",
        "        # code that might raise exceptions\n",
        "    except ValueError:\n",
        "        print(\"Caught a ValueError!\")\n",
        "    except TypeError:\n",
        "        print(\"Caught a TypeError!\")\n",
        "    ```\n",
        "* **A single `except` block with a tuple:**\n",
        "    ```python\n",
        "    try:\n",
        "        # code that might raise exceptions\n",
        "    except (ValueError, TypeError) as e:\n",
        "        print(f\"Caught a ValueError or TypeError: {e}\")\n",
        "    ```\n",
        "\n",
        "---\n",
        "\n",
        "### **8. What's the purpose of the `with` statement when handling files in Python?**\n",
        "\n",
        "**Answer:** The **`with` statement** (often seen as `with open(...) as file:`) ensures that a resource, like a file, is **properly managed** and **automatically closed** after its block of code finishes, even if errors occur. This prevents resource leaks and results in cleaner, more robust code compared to manual `try...finally` blocks for closing files.\n",
        "\n",
        "---\n",
        "\n",
        "### **9. What's the difference between multithreading and multiprocessing?**\n",
        "\n",
        "**Answer:**\n",
        "* **Multithreading:** Involves multiple \"threads\" within a **single process**. Threads share the same memory space. It's great for I/O-bound tasks (waiting for network, disk), as threads can yield control. However, due to Python's Global Interpreter Lock (GIL), multithreading can't achieve true parallel execution of CPU-bound tasks on multiple cores.\n",
        "* **Multiprocessing:** Involves multiple \"processes,\" each running in its **own separate memory space**. Processes don't share memory directly and communicate via inter-process communication (IPC). It's ideal for CPU-bound tasks, as processes can run truly in parallel on multiple CPU cores, bypassing the GIL.\n",
        "\n",
        "---\n",
        "\n",
        "### **10. What are the advantages of using logging in a program?**\n",
        "\n",
        "**Answer:** Using logging offers several key advantages:\n",
        "* **Debugging:** Helps track program flow and variable states, making bug discovery easier.\n",
        "* **Monitoring:** Provides insights into application behavior in production, identifying performance issues.\n",
        "* **Error Reporting:** Records detailed error information (timestamps, messages, stack traces) without crashing the application.\n",
        "* **Auditing/Compliance:** Can log important events for security audits or regulatory compliance.\n",
        "* **Flexibility:** Allows filtering messages by level (DEBUG, INFO, WARNING, etc.) and outputting to various destinations (console, files, etc.).\n",
        "\n",
        "---\n",
        "\n",
        "### **11. What is memory management in Python?**\n",
        "\n",
        "**Answer:** Memory management in Python refers to how Python handles the allocation and deallocation of memory for its objects. Python manages a private heap and uses primarily:\n",
        "* **Reference Counting:** Each object tracks how many references point to it. When the count drops to zero, its memory can be reclaimed.\n",
        "* **Generational Garbage Collection:** Periodically runs to detect and collect \"reference cycles\" (objects that refer to each other but are no longer accessible by the program), which reference counting alone can't handle.\n",
        "\n",
        "---\n",
        "\n",
        "### **12. What are the basic steps involved in exception handling in Python?**\n",
        "\n",
        "**Answer:** The basic steps using `try`, `except`, `else`, and `finally` are:\n",
        "1.  **`try` block:** Contains the code that *might* raise an exception.\n",
        "2.  **`except` block(s):** Catches and handles specific types of exceptions that occur in the `try` block.\n",
        "3.  **`else` block (optional):** Executes *only if* no exception occurred in the `try` block.\n",
        "4.  **`finally` block (optional):** *Always* executes, regardless of exceptions, typically for cleanup.\n",
        "\n",
        "---\n",
        "\n",
        "### **13. Why is memory management important in Python?**\n",
        "\n",
        "**Answer:** Memory management is crucial for:\n",
        "* **Resource Efficiency:** Prevents excessive memory consumption, vital for performance.\n",
        "* **Stability & Reliability:** Avoids memory leaks and ensures stable program operation.\n",
        "* **Developer Productivity:** Python's automatic management lets developers focus on logic, not low-level memory details.\n",
        "* **Performance:** Optimized allocation strategies improve execution speed.\n",
        "\n",
        "---\n",
        "\n",
        "### **14. What is the role of `try` and `except` in exception handling?**\n",
        "\n",
        "**Answer:**\n",
        "* **`try`:** This block contains the code that is *monitored* for exceptions. If an error occurs here, execution jumps to an `except` block.\n",
        "* **`except`:** This block specifies actions to take if a particular exception type occurs within the `try` block. It \"catches\" the error and allows the program to handle it gracefully, preventing crashes.\n",
        "\n",
        "---\n",
        "\n",
        "### **15. How does Python's garbage collection system work?**\n",
        "\n",
        "**Answer:** Python's garbage collection system primarily uses:\n",
        "1.  **Reference Counting (Primary):** Objects are reclaimed when their reference count drops to zero (meaning no active references point to them).\n",
        "2.  **Generational Garbage Collection (for Cycles):** A periodic collector identifies and reclaims memory for objects involved in \"reference cycles\" (where objects refer to each other but are otherwise unreachable by the program), which reference counting alone cannot resolve.\n",
        "\n",
        "---\n",
        "\n",
        "### **16. What is the purpose of the `else` block in exception handling?**\n",
        "\n",
        "**Answer:** The **`else`** block in exception handling is executed *only if* the code within the `try` block runs completely without raising any exceptions. It's useful for code that should only proceed when the `try` block's operations were fully successful.\n",
        "\n",
        "---\n",
        "\n",
        "### **17. What are the common logging levels in Python?**\n",
        "\n",
        "**Answer:** Python's `logging` module defines standard logging levels, ordered by increasing severity:\n",
        "* **`DEBUG`**: Detailed diagnostic information.\n",
        "* **`INFO`**: General confirmation that things are working as expected.\n",
        "* **`WARNING`**: Indicates something unexpected happened or a potential issue.\n",
        "* **`ERROR`**: Signifies a problem preventing a function from completing.\n",
        "* **`CRITICAL`**: A very serious error, possibly leading to program termination.\n",
        "\n",
        "---\n",
        "\n",
        "### **18. What's the difference between `os.fork()` and `multiprocessing` in Python?**\n",
        "\n",
        "**Answer:**\n",
        "* **`os.fork()`:** A lower-level, Unix-specific function that creates a new process as an exact copy of the parent. It offers fine-grained control but requires manual management of processes and inter-process communication.\n",
        "* **`multiprocessing` module:** A higher-level, cross-platform module that provides a more user-friendly and robust way to create and manage processes. It handles much of the complexity (like IPC) for you, making it the preferred method for parallel execution in Python. (It uses `os.fork()` internally on Unix-like systems).\n",
        "\n",
        "---\n",
        "\n",
        "### **19. What's the importance of closing a file in Python?**\n",
        "\n",
        "**Answer:** It's crucial to close a file in Python to:\n",
        "* **Release Resources:** Free up operating system resources allocated for the file.\n",
        "* **Ensure Data Integrity:** Flush buffered data from memory to disk, preventing data loss.\n",
        "* **Prevent Corruption:** Avoid potential file corruption if left open improperly.\n",
        "* **Manage System Limits:** Stay within the operating system's maximum number of open files.\n",
        "The `with` statement is the recommended way to handle files, as it guarantees automatic closing.\n",
        "\n",
        "---\n",
        "\n",
        "### **20. What's the difference between `file.read()` and `file.readline()` in Python?**\n",
        "\n",
        "**Answer:** When reading from a file object:\n",
        "* **`file.read(size)`:** Reads the entire file content as a single string if `size` isn't specified. If `size` is given, it reads *up to* that many characters/bytes. The file pointer moves by the amount read.\n",
        "* **`file.readline(size)`:** Reads a single line from the file (up to the next newline character). If `size` is given, it reads *up to* that many characters/bytes *or* until the end of the line, whichever comes first. The file pointer moves to the start of the next line.\n",
        "\n",
        "---\n",
        "\n",
        "### **21. What is the `logging` module in Python used for?**\n",
        "\n",
        "**Answer:** The **`logging` module** in Python is a standard library module providing a flexible framework for emitting log messages from applications and libraries. It's used for diagnostic output, status monitoring, error tracking, auditing, and understanding program flow. It allows developers to categorize messages by severity and direct them to various handlers (e.g., console, files, email).\n",
        "\n",
        "---\n",
        "\n",
        "### **22. What is the `os` module in Python used for in file handling?**\n",
        "\n",
        "**Answer:** The **`os` module** provides functions for interacting with the operating system. In file handling, it's used for tasks beyond just reading/writing file *content*. This includes:\n",
        "* **Path Manipulation:** Joining paths (`os.path.join()`), extracting filenames (`os.path.basename()`).\n",
        "* **Directory Operations:** Creating (`os.mkdir()`), deleting (`os.rmdir()`), and listing contents of directories (`os.listdir()`).\n",
        "* **File System Management:** Renaming (`os.rename()`), deleting (`os.remove()`), and getting metadata about files (`os.stat()`).\n",
        "\n",
        "---\n",
        "\n",
        "### **23. What are the challenges associated with memory management in Python?**\n",
        "\n",
        "**Answer:** While Python's automatic memory management simplifies development, challenges include:\n",
        "* **Reference Cycles: Objects referencing each other create cycles that basic reference counting can't resolve; the garbage collector needs to break these.\n",
        "* **Global Interpreter Lock (GIL):** This limits true parallel execution for CPU-bound tasks in multithreaded Python programs, impacting efficiency on multi-core processors.\n",
        "* **Unpredictable Deallocation:** The exact timing of object destruction is non-deterministic, making reliance on `__del__` for resource cleanup unreliable.\n",
        "* **Memory Footprint:** Python's object model can lead to a larger memory footprint compared to languages with manual memory management.\n",
        "\n",
        "---\n",
        "\n",
        "### **24. How do you raise an exception manually in Python?**\n",
        "\n",
        "- You raise an exception manually in Python using the **`raise`** statement, followed by the exception type (and an optional error message).\n",
        "\n",
        "Example:\n",
        "```python\n",
        "def calculate_square_root(number):\n",
        "    if number < 0:\n",
        "        raise ValueError(\"Cannot calculate square root of a negative number\")\n",
        "    return number ** 0.5\n",
        "\n",
        "try:\n",
        "    result = calculate_square_root(-4)\n",
        "    print(result)\n",
        "except ValueError as e:\n",
        "    print(f\"Error: {e}\")"
      ],
      "metadata": {
        "id": "Ej3k5_4bF47h"
      }
    },
    {
      "cell_type": "code",
      "source": [
        "# 1.How can you open a file for writing in Python and write a string to it\n",
        "\n",
        "\n",
        "with open('my_new_file.txt', 'w') as f:\n",
        "  # Write the string to the file\n",
        "  f.write('This is a new line written to the file.')\n",
        "\n",
        "\n"
      ],
      "metadata": {
        "colab": {
          "base_uri": "https://localhost:8080/"
        },
        "id": "0KQ2l1PjHLUj",
        "outputId": "e0b90ac9-79ed-400b-bdf5-4c5458835c12"
      },
      "execution_count": 5,
      "outputs": [
        {
          "output_type": "stream",
          "name": "stdout",
          "text": [
            "\n"
          ]
        }
      ]
    },
    {
      "cell_type": "code",
      "source": [
        "#2. Write a Python program to read the contents of a file and print each lineF\n",
        "with open('my_new_file.txt', 'r') as f:\n",
        "\n",
        "  for i in f:\n",
        "    print(i)\n",
        "\n"
      ],
      "metadata": {
        "colab": {
          "base_uri": "https://localhost:8080/"
        },
        "id": "EuI28PUzIIZA",
        "outputId": "c8a1f1b4-932f-4ef7-fa4d-2668fd2cd6d9"
      },
      "execution_count": 7,
      "outputs": [
        {
          "output_type": "stream",
          "name": "stdout",
          "text": [
            "This is a new line written to the file.\n"
          ]
        }
      ]
    },
    {
      "cell_type": "code",
      "source": [
        "#3.  How would you handle a case where the file doesn't exist while trying to open it for reading\n",
        "\n",
        "try:\n",
        "    with open('filename.txt', 'r') as f:\n",
        "        content = f.read()\n",
        "        print(content)\n",
        "except FileNotFoundError:\n",
        "    print(\"Error: The file 'filename.txt' was not found.\")\n",
        "except Exception as e:\n",
        "    print(f\"An unexpected error occurred: {e}\")\n"
      ],
      "metadata": {
        "colab": {
          "base_uri": "https://localhost:8080/"
        },
        "id": "-A-0gquPIg7T",
        "outputId": "d7b0ade3-541c-4e8a-f231-1013b4a99751"
      },
      "execution_count": 8,
      "outputs": [
        {
          "output_type": "stream",
          "name": "stdout",
          "text": [
            "Error: The file 'filename.txt' was not found.\n"
          ]
        }
      ]
    },
    {
      "cell_type": "code",
      "source": [
        "# 4. Write a Python script that reads from one file and writes its content to another file\n",
        "\n",
        "def copy_file_content(input_filename, output_filename):\n",
        "\n",
        "  try:\n",
        "    with open(input_filename, 'r') as infile:\n",
        "      content = infile.read()\n",
        "    with open(output_filename, 'w') as outfile:\n",
        "      outfile.write(content)\n",
        "    print(f\"Successfully copied content from '{input_filename}' to '{output_filename}'\")\n",
        "  except FileNotFoundError:\n",
        "    print(f\"Error: Input file '{input_filename}' not found.\")\n",
        "  except Exception as e:\n",
        "    print(f\"An error occurred: {e}\")\n",
        "\n",
        "f1=open('original', 'w')\n",
        "f1.write('This is a new line written to the file.')\n",
        "f1.close()\n",
        "\n",
        "f2=open('copied', 'w')\n",
        "copy_file_content('original', 'copied')\n",
        "f2.close()\n",
        "f2=open('copied', 'r')\n",
        "print(f2.read())\n",
        "f2.close()\n",
        "\n",
        "\n"
      ],
      "metadata": {
        "colab": {
          "base_uri": "https://localhost:8080/"
        },
        "id": "vC8FxkGSJMoq",
        "outputId": "467f06b0-711c-4bf4-b2e5-a502dcafea2c"
      },
      "execution_count": 13,
      "outputs": [
        {
          "output_type": "stream",
          "name": "stdout",
          "text": [
            "Successfully copied content from 'original' to 'copied'\n",
            "This is a new line written to the file.\n"
          ]
        }
      ]
    },
    {
      "cell_type": "code",
      "source": [
        "# 5. How would you catch and handle division by zero error in Python\n",
        "\n",
        "try:\n",
        "    numerator = 10\n",
        "    denominator = 0\n",
        "    result = numerator / denominator\n",
        "    print(result)\n",
        "except ZeroDivisionError:\n",
        "    print(\"Error: Division by zero is not allowed.\")\n",
        "except Exception as e:\n",
        "    print(f\"An unexpected error occurred: {e}\")\n",
        "\n"
      ],
      "metadata": {
        "colab": {
          "base_uri": "https://localhost:8080/"
        },
        "id": "6Vb0Vk9hJ3j0",
        "outputId": "f54dbf62-4a24-47a3-97dc-e709e56a0cfc"
      },
      "execution_count": 14,
      "outputs": [
        {
          "output_type": "stream",
          "name": "stdout",
          "text": [
            "Error: Division by zero is not allowed.\n"
          ]
        }
      ]
    },
    {
      "cell_type": "code",
      "source": [
        "# 6.Write a Python program that logs an error message to a log file when a division by zero exception occurs\n",
        "\n",
        "import logging\n",
        "\n",
        "# Configure logging to write to a file\n",
        "logging.basicConfig(filename='error.log', level=logging.ERROR,\n",
        "                    format='%(asctime)s:%(levelname)s:%(message)s')\n",
        "\n",
        "def divide_numbers(a, b):\n",
        "\n",
        "  try:\n",
        "    result = a / b\n",
        "    print(f\"Result of division: {result}\")\n",
        "  except ZeroDivisionError:\n",
        "    error_message = \"Attempted to divide by zero.\"\n",
        "    logging.error(error_message)\n",
        "    print(f\"Caught an error: {error_message}\")\n",
        "\n",
        "divide_numbers(10, 2)\n",
        "divide_numbers(10, 0)\n",
        "\n",
        "\n"
      ],
      "metadata": {
        "colab": {
          "base_uri": "https://localhost:8080/"
        },
        "id": "OLfIwtOYLhCQ",
        "outputId": "93d433aa-0c68-4bce-b82c-b017ee0ccf7d"
      },
      "execution_count": 16,
      "outputs": [
        {
          "output_type": "stream",
          "name": "stderr",
          "text": [
            "ERROR:root:Attempted to divide by zero.\n"
          ]
        },
        {
          "output_type": "stream",
          "name": "stdout",
          "text": [
            "Result of division: 5.0\n",
            "Caught an error: Attempted to divide by zero.\n"
          ]
        }
      ]
    },
    {
      "cell_type": "code",
      "source": [
        "# 7. How do you log information at different levels (INFO, ERROR, WARNING) in Python using the logging module\n",
        "\n",
        "\n",
        "logging.debug(\"This is a debug message.\") # Won't show by default unless level is set to DEBUG\n",
        "logging.info(\"This is an info message.\")\n",
        "logging.warning(\"This is a warning message.\")\n",
        "logging.error(\"This is an error message.\")\n",
        "logging.critical(\"This is a critical message.\")\n",
        "\n",
        "\n",
        "import logging\n",
        "logging.basicConfig(level=logging.DEBUG, format='%(asctime)s - %(levelname)s - %(message)s')\n",
        "logging.debug(\"This debug message will now be visible.\")\n",
        "logging.info(\"This info message will also be visible.\")"
      ],
      "metadata": {
        "colab": {
          "base_uri": "https://localhost:8080/"
        },
        "id": "sFjy7mzFMAtx",
        "outputId": "12a62a14-a798-49cc-b67b-f88c9a2edd2c"
      },
      "execution_count": 18,
      "outputs": [
        {
          "output_type": "stream",
          "name": "stderr",
          "text": [
            "WARNING:root:This is a warning message.\n",
            "ERROR:root:This is an error message.\n",
            "CRITICAL:root:This is a critical message.\n"
          ]
        }
      ]
    },
    {
      "cell_type": "code",
      "source": [
        "# 8. Write a program to handle a file opening error using exception handlingF\n",
        "\n",
        "try:\n",
        "    # Attempt to open a file for reading\n",
        "    with open('non_existent_file.txt', 'r') as f:\n",
        "        content = f.read()\n",
        "        print(content)\n",
        "except FileNotFoundError:\n",
        "    # Handle the specific case where the file is not found\n",
        "    print(\"Error: The file was not found.\")\n",
        "except Exception as e:\n",
        "    # Handle any other potential exceptions that might occur during file opening/reading\n",
        "    print(f\"An unexpected error occurred: {e}\")\n",
        "\n"
      ],
      "metadata": {
        "colab": {
          "base_uri": "https://localhost:8080/"
        },
        "id": "LdNEFJIwM70f",
        "outputId": "eab03039-9a1b-41ed-ffbb-c7f3dbee0b9e"
      },
      "execution_count": 19,
      "outputs": [
        {
          "output_type": "stream",
          "name": "stdout",
          "text": [
            "Error: The file was not found.\n"
          ]
        }
      ]
    },
    {
      "cell_type": "code",
      "source": [
        "# 9.How can you read a file line by line and store its content in a list in Python\n",
        "with open('my_new_file.txt', 'w') as f:\n",
        "  # Write the string to the file\n",
        "  f.write('This is a new line written to the file.')\n",
        "\n",
        "\n",
        "lines = []\n",
        "with open('my_new_file.txt', 'r') as file:\n",
        "        for i in file:\n",
        "            lines.append(i.strip())\n",
        "\n",
        "\n",
        "lines\n"
      ],
      "metadata": {
        "colab": {
          "base_uri": "https://localhost:8080/"
        },
        "id": "dt-PAIXoNNOd",
        "outputId": "e861623b-4c56-422d-8d72-96093f7db7c4"
      },
      "execution_count": 23,
      "outputs": [
        {
          "output_type": "execute_result",
          "data": {
            "text/plain": [
              "['This is a new line written to the file.']"
            ]
          },
          "metadata": {},
          "execution_count": 23
        }
      ]
    },
    {
      "cell_type": "code",
      "source": [
        "\n",
        "# 10. How can you append data to an existing file in Python\n",
        "with open('my_new_file.txt', 'w') as f:\n",
        "  # Write the string to the file\n",
        "  f.write('This is a new line written to the file.')\n",
        "\n",
        "with open('my_new_file.txt', 'a') as f:\n",
        "  # Append a new line to the file\n",
        "  f.write('\\nThis is an appended line.')\n",
        "\n",
        "with open('my_new_file.txt', 'r') as f:\n",
        "        for i in f:\n",
        "            print(i)\n",
        "\n"
      ],
      "metadata": {
        "colab": {
          "base_uri": "https://localhost:8080/"
        },
        "id": "nZvcj3kdN_3Q",
        "outputId": "7408e117-0877-405d-8c0f-34a188ad9933"
      },
      "execution_count": 29,
      "outputs": [
        {
          "output_type": "stream",
          "name": "stdout",
          "text": [
            "This is a new line written to the file.\n",
            "\n",
            "This is an appended line.\n"
          ]
        }
      ]
    },
    {
      "cell_type": "code",
      "source": [
        "# 11. Write a Python program that uses a try-except block to handle an error when attempting to access a\n",
        "# dictionary key that doesn't exist\n",
        "\n",
        "my_dict = {\"key1\": \"value1\", \"key2\": \"value2\"}\n",
        "\n",
        "try:\n",
        "    value = my_dict[\"non_existent_key\"]\n",
        "    print(f\"Value is: {value}\")\n",
        "except KeyError:\n",
        "    print(\"Error: The specified dictionary key does not exist.\")\n",
        "except Exception as e:\n",
        "    print(f\"An unexpected error occurred: {e}\")\n",
        "\n"
      ],
      "metadata": {
        "colab": {
          "base_uri": "https://localhost:8080/"
        },
        "id": "mmsb41CdOvwk",
        "outputId": "6143e432-42a5-49c3-ba18-a6bf5a7ad6c2"
      },
      "execution_count": 30,
      "outputs": [
        {
          "output_type": "stream",
          "name": "stdout",
          "text": [
            "Error: The specified dictionary key does not exist.\n"
          ]
        }
      ]
    },
    {
      "cell_type": "code",
      "source": [
        "# 12. Write a program that demonstrates using multiple except blocks to handle different types of exceptions\n",
        "\n",
        "def handle_various_errors():\n",
        "\n",
        "  try:\n",
        "    # Code that might raise different exceptions\n",
        "    user_input = input(\"Enter a number: \")\n",
        "    number = int(user_input)  # Might raise ValueError if not an integer\n",
        "    result = 10 / number       # Might raise ZeroDivisionError if number is 0\n",
        "    my_list = [1, 2, 3]\n",
        "    print(my_list[number])   # Might raise IndexError if number is out of range\n",
        "\n",
        "  except ValueError:\n",
        "    print(\"Invalid input. Please enter an integer.\")\n",
        "\n",
        "  except ZeroDivisionError:\n",
        "    print(\"Cannot divide by zero.\")\n",
        "\n",
        "  except IndexError:\n",
        "    print(\"The number you entered is out of the list's range.\")\n",
        "\n",
        "  except Exception as e:\n",
        "    # Catch any other unexpected exceptions\n",
        "    print(f\"An unexpected error occurred: {e}\")\n",
        "\n",
        "  finally:\n",
        "    print(\"Execution of try-except block finished.\")\n",
        "\n",
        "# Example calls to demonstrate different exceptions\n",
        "print(\"--- Testing ValueError ---\")\n",
        "handle_various_errors() # Enter 'abc'\n",
        "\n",
        "print(\"\\n--- Testing ZeroDivisionError ---\")\n",
        "handle_various_errors() # Enter '0'\n",
        "\n",
        "print(\"\\n--- Testing IndexError ---\")\n",
        "handle_various_errors() # Enter '5'\n",
        "\n",
        "print(\"\\n--- Testing no error ---\")\n",
        "handle_various_errors() # Enter '1'\n"
      ],
      "metadata": {
        "colab": {
          "base_uri": "https://localhost:8080/"
        },
        "id": "oocC6PsyPPyZ",
        "outputId": "3d63defa-437b-49d7-e6eb-b9bc8bf8b663"
      },
      "execution_count": 31,
      "outputs": [
        {
          "output_type": "stream",
          "name": "stdout",
          "text": [
            "--- Testing ValueError ---\n",
            "Enter a number: 12\n",
            "The number you entered is out of the list's range.\n",
            "Execution of try-except block finished.\n",
            "\n",
            "--- Testing ZeroDivisionError ---\n",
            "Enter a number: 5\n",
            "The number you entered is out of the list's range.\n",
            "Execution of try-except block finished.\n",
            "\n",
            "--- Testing IndexError ---\n",
            "Enter a number: 22\n",
            "The number you entered is out of the list's range.\n",
            "Execution of try-except block finished.\n",
            "\n",
            "--- Testing no error ---\n",
            "Enter a number: 1\n",
            "2\n",
            "Execution of try-except block finished.\n"
          ]
        }
      ]
    },
    {
      "cell_type": "code",
      "source": [
        "# 13.How would you check if a file exists before attempting to read it in Python\n",
        "\n",
        "import os\n",
        "\n",
        "\n",
        "file_path = 'filename.txt'\n",
        "\n",
        "if os.path.exists(file_path):\n",
        "\n",
        "        with open(file_path, 'r') as f:\n",
        "            content = f.read()\n",
        "            print(content)\n",
        "else:\n",
        "    print(f\"Error: The file '{file_path}' was not found.\")"
      ],
      "metadata": {
        "colab": {
          "base_uri": "https://localhost:8080/"
        },
        "id": "6faRBnrOPsqZ",
        "outputId": "66cd883b-a334-4f92-b44f-9631e8d2c435"
      },
      "execution_count": 33,
      "outputs": [
        {
          "output_type": "stream",
          "name": "stdout",
          "text": [
            "Error: The file 'filename.txt' was not found.\n"
          ]
        }
      ]
    },
    {
      "cell_type": "code",
      "source": [
        "# 14.Write a program that uses the logging module to log both informational and error messages\n",
        "\n",
        "\n",
        "if not logging.getLogger().handlers:\n",
        "    logging.basicConfig(\n",
        "        level=logging.INFO,  # Default level for console output/file output\n",
        "        format='%(asctime)s:%(levelname)s:%(message)s'\n",
        "    )\n",
        "\n",
        "\n",
        "def safe_divide(a, b):\n",
        "  \"\"\"Divides two numbers and logs info or error.\"\"\"\n",
        "  try:\n",
        "    logging.info(f\"Attempting to divide {a} by {b}\")\n",
        "    result = a / b\n",
        "    logging.info(f\"Division successful: {a} / {b} = {result}\")\n",
        "    return result\n",
        "  except ZeroDivisionError:\n",
        "    error_message = \"Error: Division by zero occurred.\"\n",
        "    logging.error(error_message, exc_info=True) # exc_info=True adds traceback\n",
        "    print(error_message) # Also print to console for immediate feedback\n",
        "    return None\n",
        "  except TypeError:\n",
        "    error_message = \"Error: Invalid operand types for division.\"\n",
        "    logging.error(error_message, exc_info=True)\n",
        "    print(error_message)\n",
        "    return None\n",
        "  except Exception as e:\n",
        "    error_message = f\"An unexpected error occurred during division: {e}\"\n",
        "    logging.error(error_message, exc_info=True)\n",
        "    print(error_message)\n",
        "    return None\n",
        "\n",
        "\n",
        "# Demonstrate logging of informational messages\n",
        "print(\"--- Performing successful division ---\")\n",
        "safe_divide(10, 2)\n",
        "\n",
        "# Demonstrate logging of an error message\n",
        "print(\"\\n--- Performing division by zero ---\")\n",
        "safe_divide(10, 0)\n",
        "\n",
        "# Demonstrate logging of a type error\n",
        "print(\"\\n--- Performing division with wrong types ---\")\n",
        "safe_divide(10, \"abc\")\n",
        "\n",
        "# You can check the logged messages here or in the configured log file (if you set up a FileHandler)\n",
        "# By default with basicConfig, logs go to the console in Colab.\n",
        "# To save to a file:\n",
        "# logging.basicConfig(filename='my_app.log', level=logging.INFO, format='%(asctime)s:%(levelname)s:%(message)s')\n",
        "\n"
      ],
      "metadata": {
        "colab": {
          "base_uri": "https://localhost:8080/"
        },
        "id": "eNvIlfOPQJsI",
        "outputId": "e836a34c-93e1-4ea7-d61d-2da95fd4c46b"
      },
      "execution_count": 34,
      "outputs": [
        {
          "output_type": "stream",
          "name": "stderr",
          "text": [
            "ERROR:root:Error: Division by zero occurred.\n",
            "Traceback (most recent call last):\n",
            "  File \"/tmp/ipython-input-34-2330926480.py\", line 15, in safe_divide\n",
            "    result = a / b\n",
            "             ~~^~~\n",
            "ZeroDivisionError: division by zero\n",
            "ERROR:root:Error: Invalid operand types for division.\n",
            "Traceback (most recent call last):\n",
            "  File \"/tmp/ipython-input-34-2330926480.py\", line 15, in safe_divide\n",
            "    result = a / b\n",
            "             ~~^~~\n",
            "TypeError: unsupported operand type(s) for /: 'int' and 'str'\n"
          ]
        },
        {
          "output_type": "stream",
          "name": "stdout",
          "text": [
            "--- Performing successful division ---\n",
            "\n",
            "--- Performing division by zero ---\n",
            "Error: Division by zero occurred.\n",
            "\n",
            "--- Performing division with wrong types ---\n",
            "Error: Invalid operand types for division.\n"
          ]
        }
      ]
    },
    {
      "cell_type": "code",
      "source": [
        "# 14. Write a Python program that prints the content of a file and handles the case when the file is empty\n",
        "\n",
        "def print_file_content(filename):\n",
        "  \"\"\"\n",
        "  Prints the content of a file, handling the case where the file is empty.\n",
        "  \"\"\"\n",
        "  try:\n",
        "    with open(filename, 'r') as f:\n",
        "      content = f.read()\n",
        "      if content:\n",
        "        print(\"File content:\")\n",
        "        print(content)\n",
        "      else:\n",
        "        print(f\"File '{filename}' is empty.\")\n",
        "  except FileNotFoundError:\n",
        "    print(f\"Error: File '{filename}' not found.\")\n",
        "  except Exception as e:\n",
        "    print(f\"An error occurred while reading the file: {e}\")\n",
        "\n",
        "# Create a dummy file for demonstration\n",
        "with open('example_file.txt', 'w') as f:\n",
        "  f.write(\"This is line 1.\\n\")\n",
        "  f.write(\"This is line 2.\\n\")\n",
        "\n",
        "# Create an empty file for demonstration\n",
        "with open('empty_file.txt', 'w') as f:\n",
        "  pass # Create an empty file\n",
        "\n",
        "# Example usage\n",
        "print(\"--- Reading 'example_file.txt' ---\")\n",
        "print_file_content('example_file.txt')\n",
        "\n",
        "print(\"\\n--- Reading 'empty_file.txt' ---\")\n",
        "print_file_content('empty_file.txt')\n",
        "\n",
        "print(\"\\n--- Attempting to read a non-existent file ---\")\n",
        "print_file_content('non_existent.txt')\n",
        "\n",
        "# Clean up the dummy files\n",
        "!rm example_file.txt\n",
        "!rm empty_file.txt\n"
      ],
      "metadata": {
        "colab": {
          "base_uri": "https://localhost:8080/"
        },
        "id": "DFrn7Nj7Qa2F",
        "outputId": "1bdc1daa-5141-4e87-f70b-fdc98bd3e448"
      },
      "execution_count": 37,
      "outputs": [
        {
          "output_type": "stream",
          "name": "stdout",
          "text": [
            "--- Reading 'example_file.txt' ---\n",
            "File content:\n",
            "This is line 1.\n",
            "This is line 2.\n",
            "\n",
            "\n",
            "--- Reading 'empty_file.txt' ---\n",
            "File 'empty_file.txt' is empty.\n",
            "\n",
            "--- Attempting to read a non-existent file ---\n",
            "Error: File 'non_existent.txt' not found.\n"
          ]
        }
      ]
    },
    {
      "cell_type": "code",
      "source": [
        "# prompt: 15.Demonstrate how to use memory profiling to check the memory usage of a small program\n",
        "\n",
        "!pip install -q memory_profiler\n",
        "\n",
        "# To use memory_profiler in a Colab notebook,\n",
        "# you need to load the extension and then use the %memit or %%memit magic command.\n",
        "%load_ext memory_profiler\n",
        "\n",
        "def create_list(size):\n",
        "  \"\"\"Creates a list of integers.\"\"\"\n",
        "  data = [i for i in range(size)]\n",
        "  return data\n",
        "\n",
        "print(\"Profiling memory usage for creating a list:\")\n",
        "\n",
        "# Use %memit to profile the memory usage of a single line\n",
        "# It shows the memory usage before and after the line execution, and the difference\n",
        "%memit list_data = create_list(100000)\n",
        "\n",
        "# You can also use %%memit for a block of code\n",
        "# It shows the memory usage before and after the entire cell execution, and the difference\n",
        "%%memit\n",
        "list_data_large = create_list(1000000)\n",
        "# Perform some operations that might use memory\n",
        "another_list = [x * 2 for x in list_data_large[:1000]]\n",
        "del another_list # Explicitly delete to see memory change if profiling the block\n",
        "\n",
        "# Note: %memit and %%memit measure the peak memory usage *during* the execution of the line/cell\n",
        "# compared to the initial memory state of the line/cell.\n",
        "# Memory profiling can be influenced by Python's garbage collection.\n",
        "\n",
        "# To get more detailed line-by-line memory usage within a function,\n",
        "# you would typically use the @profile decorator and run the script from the command line\n",
        "# with `python -m memory_profiler your_script.py`.\n",
        "# In a notebook, %memit and %%memit are more convenient for quick checks."
      ],
      "metadata": {
        "colab": {
          "base_uri": "https://localhost:8080/"
        },
        "id": "_zzautWdQ3_f",
        "outputId": "e9f57d44-04a6-47ca-cd85-ef16d0c15584"
      },
      "execution_count": 38,
      "outputs": [
        {
          "output_type": "stream",
          "name": "stdout",
          "text": [
            "Profiling memory usage for creating a list:\n",
            "peak memory: 133.11 MiB, increment: 0.38 MiB\n"
          ]
        },
        {
          "output_type": "stream",
          "name": "stderr",
          "text": [
            "UsageError: Line magic function `%%memit` not found.\n"
          ]
        }
      ]
    },
    {
      "cell_type": "code",
      "source": [
        "# 17. Write a Python program to create and write a list of numbers to a file, one number per line.\n",
        "\n",
        "numbers = [10, 20, 30, 40, 50]\n",
        "file_path = 'numbers_list.txt'\n",
        "with open(file_path, 'w') as f:\n",
        "    for number in numbers:\n",
        "      f.write(f\"{number}\\n\")\n",
        "\n",
        "with open(file_path, 'r') as f:\n",
        "        for i in f:\n",
        "            print(i)\n"
      ],
      "metadata": {
        "colab": {
          "base_uri": "https://localhost:8080/"
        },
        "id": "jsw3n_51RI3Y",
        "outputId": "a65a0c91-ba0f-4144-94f3-beab04b9525d"
      },
      "execution_count": 41,
      "outputs": [
        {
          "output_type": "stream",
          "name": "stdout",
          "text": [
            "10\n",
            "\n",
            "20\n",
            "\n",
            "30\n",
            "\n",
            "40\n",
            "\n",
            "50\n",
            "\n"
          ]
        }
      ]
    },
    {
      "cell_type": "code",
      "source": [
        "# 19. Write a program that handles both IndexError and KeyError using a try-except block.\n",
        "\n",
        "data = [1, 2, 3]\n",
        "my_dict = {\"a\": 1, \"b\": 2}\n",
        "\n",
        "try:\n",
        "    print(data[5])       # This will cause an IndexError\n",
        "    print(my_dict[\"c\"])  # This will cause a KeyError (if IndexError didn't happen)\n",
        "except IndexError:\n",
        "    print(\"Caught an IndexError: The index is out of range.\")\n",
        "except KeyError:\n",
        "    print(\"Caught a KeyError: The dictionary key does not exist.\")\n",
        "except Exception as e:\n",
        "    # This will catch any other unexpected exceptions\n",
        "    print(f\"Caught an unexpected error: {e}\")"
      ],
      "metadata": {
        "colab": {
          "base_uri": "https://localhost:8080/"
        },
        "id": "7rdk6uf9SLL7",
        "outputId": "12dbeddc-afe0-4331-c346-0fc56c8e630c"
      },
      "execution_count": 1,
      "outputs": [
        {
          "output_type": "stream",
          "name": "stdout",
          "text": [
            "Caught an IndexError: The index is out of range.\n"
          ]
        }
      ]
    },
    {
      "cell_type": "code",
      "source": [
        "# 20. How would you open a file and read its contents using a context manager in Python\n",
        "\n",
        "\n",
        "file_path = 'my_file_to_read.txt' # Replace with the actual file path\n",
        "\n",
        "# Create a dummy file for demonstration if it doesn't exist\n",
        "try:\n",
        "    with open(file_path, 'x') as f: # Use 'x' mode to create if it doesn't exist\n",
        "        f.write(\"Line 1: Hello\\n\")\n",
        "        f.write(\"Line 2: World\\n\")\n",
        "except FileExistsError:\n",
        "    pass # File already exists, do nothing\n",
        "\n",
        "try:\n",
        "    # Using a context manager (with statement) to ensure the file is closed\n",
        "    with open(file_path, 'r') as file:\n",
        "        # Read the entire content\n",
        "        file_content = file.read()\n",
        "        print(\"--- Reading entire file content ---\")\n",
        "        print(file_content)\n",
        "\n",
        "    # The file is automatically closed here, outside the 'with' block.\n",
        "\n",
        "    # You can open it again with a context manager for other operations,\n",
        "    # like reading line by line\n",
        "    with open(file_path, 'r') as file:\n",
        "        print(\"\\n--- Reading file line by line ---\")\n",
        "        for line in file:\n",
        "            print(line.strip()) # Use strip() to remove leading/trailing whitespace, including newline\n",
        "\n",
        "except FileNotFoundError:\n",
        "    print(f\"Error: The file '{file_path}' was not found.\")\n",
        "except Exception as e:\n",
        "    print(f\"An unexpected error occurred: {e}\")\n",
        "\n",
        "# Clean up the dummy file\n",
        "!rm my_file_to_read.txt\n"
      ],
      "metadata": {
        "colab": {
          "base_uri": "https://localhost:8080/"
        },
        "id": "Bp6jlgTUSurh",
        "outputId": "959b01d3-e614-47a2-b5bf-6a29405218cd"
      },
      "execution_count": 2,
      "outputs": [
        {
          "output_type": "stream",
          "name": "stdout",
          "text": [
            "--- Reading entire file content ---\n",
            "Line 1: Hello\n",
            "Line 2: World\n",
            "\n",
            "\n",
            "--- Reading file line by line ---\n",
            "Line 1: Hello\n",
            "Line 2: World\n"
          ]
        }
      ]
    },
    {
      "cell_type": "code",
      "source": [
        "# 21.Write a Python program that reads a file and prints the number of occurrences of a specific word\n",
        "\n",
        "dummy_filename = 'word_count_example.txt'\n",
        "with open(dummy_filename, 'w') as f:\n",
        "    f.write(\"This is a test file.\\n\")\n",
        "    f.write(\"Test test test.\\n\")\n",
        "    f.write(\"Another line with the word test.\\n\")\n",
        "    f.write(\"TESTing is important.\\n\")\n",
        "\n",
        "def count_word_occurrences(filename, word):\n",
        "with open('word_count_example.txt', 'r') as f:\n",
        "    count = 0\n",
        "for line in f:\n",
        "        words_in_line = line.lower().split() # Convert to lower case for case-insensitive count\n",
        "        count += words_in_line.count(word.lower()) # Convert target word to lower case too\n",
        "print(f\"The word '{word}' appears {count} times in '{filename}'.\")\n",
        "\n",
        "\n",
        "target_word = 'test'\n",
        "count_word_occurrences(dummy_filename, target_word)\n",
        "\n",
        "\n",
        "target_word_2 = 'python'\n",
        "count_word_occurrences(dummy_filename, target_word_2)\n",
        "\n",
        "\n",
        "\n",
        "count_word_occurrences('non_existent_file.txt', 'word')\n",
        "\n",
        "\n"
      ],
      "metadata": {
        "colab": {
          "base_uri": "https://localhost:8080/",
          "height": 106
        },
        "id": "2xegjtbnS9NR",
        "outputId": "8ee36aa3-08a7-483e-d455-d5c5f9e0210e"
      },
      "execution_count": 19,
      "outputs": [
        {
          "output_type": "error",
          "ename": "IndentationError",
          "evalue": "expected an indented block after function definition on line 10 (ipython-input-19-3812105059.py, line 11)",
          "traceback": [
            "\u001b[0;36m  File \u001b[0;32m\"/tmp/ipython-input-19-3812105059.py\"\u001b[0;36m, line \u001b[0;32m11\u001b[0m\n\u001b[0;31m    with open('word_count_example.txt', 'r') as f:\u001b[0m\n\u001b[0m    ^\u001b[0m\n\u001b[0;31mIndentationError\u001b[0m\u001b[0;31m:\u001b[0m expected an indented block after function definition on line 10\n"
          ]
        }
      ]
    },
    {
      "cell_type": "code",
      "source": [
        "# 21.  How can you check if a file is empty before attempting to read its contents\n",
        "\n",
        "def is_file_empty(file_path):\n",
        "  \"\"\"\n",
        "  Checks if a file exists and is empty.\n",
        "\n",
        "  Args:\n",
        "    file_path: The path to the file.\n",
        "\n",
        "  Returns:\n",
        "    True if the file exists and is empty, False otherwise.\n",
        "  \"\"\"\n",
        "  if not os.path.exists(file_path):\n",
        "    # print(f\"File '{file_path}' not found.\")\n",
        "    return False # File doesn't exist, so it's not an empty file\n",
        "  else:\n",
        "    return os.path.getsize(file_path) == 0\n",
        "\n",
        "# Create some dummy files for testing\n",
        "empty_file_path = 'empty_test_file.txt'\n",
        "non_empty_file_path = 'non_empty_test_file.txt'\n",
        "non_existent_file_path = 'non_existent_test_file.txt'\n",
        "\n",
        "with open(empty_file_path, 'w') as f:\n",
        "  pass # Creates an empty file\n",
        "\n",
        "with open(non_empty_file_path, 'w') as f:\n",
        "  f.write(\"This file has content.\")\n",
        "\n",
        "print(f\"Is '{empty_file_path}' empty? {is_file_empty(empty_file_path)}\")\n",
        "print(f\"Is '{non_empty_file_path}' empty? {is_file_empty(non_empty_file_path)}\")\n",
        "print(f\"Is '{non_existent_file_path}' empty? {is_file_empty(non_existent_file_path)}\")\n",
        "\n",
        "# Clean up the dummy files\n",
        "!rm {empty_file_path}\n",
        "!rm {non_empty_file_path}\n"
      ],
      "metadata": {
        "colab": {
          "base_uri": "https://localhost:8080/",
          "height": 332
        },
        "id": "4Gttx9_YV1Wb",
        "outputId": "8589b55d-e459-41b2-ef61-e000a7f8eda5"
      },
      "execution_count": 20,
      "outputs": [
        {
          "output_type": "error",
          "ename": "NameError",
          "evalue": "name 'os' is not defined",
          "traceback": [
            "\u001b[0;31m---------------------------------------------------------------------------\u001b[0m",
            "\u001b[0;31mNameError\u001b[0m                                 Traceback (most recent call last)",
            "\u001b[0;32m/tmp/ipython-input-20-961143615.py\u001b[0m in \u001b[0;36m<cell line: 0>\u001b[0;34m()\u001b[0m\n\u001b[1;32m     28\u001b[0m   \u001b[0mf\u001b[0m\u001b[0;34m.\u001b[0m\u001b[0mwrite\u001b[0m\u001b[0;34m(\u001b[0m\u001b[0;34m\"This file has content.\"\u001b[0m\u001b[0;34m)\u001b[0m\u001b[0;34m\u001b[0m\u001b[0;34m\u001b[0m\u001b[0m\n\u001b[1;32m     29\u001b[0m \u001b[0;34m\u001b[0m\u001b[0m\n\u001b[0;32m---> 30\u001b[0;31m \u001b[0mprint\u001b[0m\u001b[0;34m(\u001b[0m\u001b[0;34mf\"Is '{empty_file_path}' empty? {is_file_empty(empty_file_path)}\"\u001b[0m\u001b[0;34m)\u001b[0m\u001b[0;34m\u001b[0m\u001b[0;34m\u001b[0m\u001b[0m\n\u001b[0m\u001b[1;32m     31\u001b[0m \u001b[0mprint\u001b[0m\u001b[0;34m(\u001b[0m\u001b[0;34mf\"Is '{non_empty_file_path}' empty? {is_file_empty(non_empty_file_path)}\"\u001b[0m\u001b[0;34m)\u001b[0m\u001b[0;34m\u001b[0m\u001b[0;34m\u001b[0m\u001b[0m\n\u001b[1;32m     32\u001b[0m \u001b[0mprint\u001b[0m\u001b[0;34m(\u001b[0m\u001b[0;34mf\"Is '{non_existent_file_path}' empty? {is_file_empty(non_existent_file_path)}\"\u001b[0m\u001b[0;34m)\u001b[0m\u001b[0;34m\u001b[0m\u001b[0;34m\u001b[0m\u001b[0m\n",
            "\u001b[0;32m/tmp/ipython-input-20-961143615.py\u001b[0m in \u001b[0;36mis_file_empty\u001b[0;34m(file_path)\u001b[0m\n\u001b[1;32m     11\u001b[0m     \u001b[0;32mTrue\u001b[0m \u001b[0;32mif\u001b[0m \u001b[0mthe\u001b[0m \u001b[0mfile\u001b[0m \u001b[0mexists\u001b[0m \u001b[0;32mand\u001b[0m \u001b[0;32mis\u001b[0m \u001b[0mempty\u001b[0m\u001b[0;34m,\u001b[0m \u001b[0;32mFalse\u001b[0m \u001b[0motherwise\u001b[0m\u001b[0;34m.\u001b[0m\u001b[0;34m\u001b[0m\u001b[0;34m\u001b[0m\u001b[0m\n\u001b[1;32m     12\u001b[0m   \"\"\"\n\u001b[0;32m---> 13\u001b[0;31m   \u001b[0;32mif\u001b[0m \u001b[0;32mnot\u001b[0m \u001b[0mos\u001b[0m\u001b[0;34m.\u001b[0m\u001b[0mpath\u001b[0m\u001b[0;34m.\u001b[0m\u001b[0mexists\u001b[0m\u001b[0;34m(\u001b[0m\u001b[0mfile_path\u001b[0m\u001b[0;34m)\u001b[0m\u001b[0;34m:\u001b[0m\u001b[0;34m\u001b[0m\u001b[0;34m\u001b[0m\u001b[0m\n\u001b[0m\u001b[1;32m     14\u001b[0m     \u001b[0;31m# print(f\"File '{file_path}' not found.\")\u001b[0m\u001b[0;34m\u001b[0m\u001b[0;34m\u001b[0m\u001b[0m\n\u001b[1;32m     15\u001b[0m     \u001b[0;32mreturn\u001b[0m \u001b[0;32mFalse\u001b[0m \u001b[0;31m# File doesn't exist, so it's not an empty file\u001b[0m\u001b[0;34m\u001b[0m\u001b[0;34m\u001b[0m\u001b[0m\n",
            "\u001b[0;31mNameError\u001b[0m: name 'os' is not defined"
          ]
        }
      ]
    },
    {
      "cell_type": "code",
      "source": [
        "# 22. Write a Python program that writes to a log file when an error occurs during file handling.\n",
        "\n",
        "# Configure logging to write errors to a file\n",
        "logging.basicConfig(filename='file_errors.log', level=logging.ERROR,\n",
        "                    format='%(asctime)s:%(levelname)s:%(message)s')\n",
        "\n",
        "def safe_file_read(filename):\n",
        "  \"\"\"\n",
        "  Attempts to read a file and logs an error if an exception occurs.\n",
        "  \"\"\"\n",
        "  try:\n",
        "    with open(filename, 'r') as f:\n",
        "      content = f.read()\n",
        "      print(f\"Successfully read file: {filename}\")\n",
        "      return content\n",
        "  except FileNotFoundError:\n",
        "    error_message = f\"Error: File not found - '{filename}'\"\n",
        "    logging.error(error_message)\n",
        "    print(error_message)\n",
        "    return None\n",
        "  except IOError as e:\n",
        "    error_message = f\"Error: Could not read file - '{filename}'. Reason: {e}\"\n",
        "    logging.error(error_message)\n",
        "    print(error_message)\n",
        "    return None\n",
        "  except Exception as e:\n",
        "    error_message = f\"An unexpected error occurred while handling file '{filename}': {e}\"\n",
        "    logging.error(error_message, exc_info=True) # exc_info=True adds traceback\n",
        "    print(error_message)\n",
        "    return None\n",
        "\n",
        "# --- Example Usage ---\n",
        "\n",
        "# Attempt to read a non-existent file (will cause FileNotFoundError and log error)\n",
        "print(\"--- Attempting to read non-existent file ---\")\n",
        "safe_file_read('non_existent_file_for_error.txt')\n",
        "\n",
        "# Create a dummy file\n",
        "dummy_file_name = 'existent_file_for_error.txt'\n",
        "with open(dummy_file_name, 'w') as f:\n",
        "  f.write(\"This file exists.\")\n",
        "\n",
        "# Attempt to read an existent file (will succeed, no log error)\n",
        "print(\"\\n--- Attempting to read existent file ---\")\n",
        "safe_file_read(dummy_file_name)\n",
        "\n",
        "# Simulate another potential error (e.g., permission error - might require specific OS setup)\n",
        "# For demonstration purposes, this example focuses on FileNotFoundError and general IOError.\n",
        "# A more complex scenario would involve setting file permissions to read-only for demonstration.\n",
        "\n",
        "# Clean up the dummy file\n",
        "!rm {dummy_file_name}\n",
        "\n",
        "print(\"\\nCheck 'file_errors.log' for logged errors.\")\n"
      ],
      "metadata": {
        "id": "PV4Zx5yQWK5Y"
      },
      "execution_count": null,
      "outputs": []
    }
  ]
}