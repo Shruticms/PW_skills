{
  "nbformat": 4,
  "nbformat_minor": 0,
  "metadata": {
    "colab": {
      "provenance": []
    },
    "kernelspec": {
      "name": "python3",
      "display_name": "Python 3"
    },
    "language_info": {
      "name": "python"
    }
  },
  "cells": [
    {
      "cell_type": "code",
      "execution_count": null,
      "metadata": {
        "id": "dt_azbLnAuOH"
      },
      "outputs": [],
      "source": [
        "'''1. Create a parent class Animal with a method speak() that prints a generic message. Create a child class Dog\n",
        "that overrides the speak() method to print \"Bark!\".'''\n",
        "\n",
        "class Animal:\n",
        "    def speak(self):\n",
        "        print(\" animal sound\")\n",
        "\n",
        "class Dog(Animal):\n",
        "    def speak(self):\n",
        "        print(\"Bark!\")\n"
      ]
    },
    {
      "cell_type": "code",
      "source": [
        "'''2. Write a program to create an abstract class Shape with a method area(). Derive classes Circle and Rectangle\n",
        "from it and implement the area() method in both.'''\n",
        "from abc import ABC, abstractmethod\n",
        "import math\n",
        "\n",
        "class Shape(ABC):\n",
        "    @abstractmethod\n",
        "    def area(self):\n",
        "        pass\n",
        "\n",
        "class Circle(Shape):\n",
        "    def __init__(self, radius):\n",
        "        self.radius = radius\n",
        "\n",
        "    def area(self):\n",
        "        return math.pi * self.radius**2\n",
        "\n",
        "class Rectangle(Shape):\n",
        "    def __init__(self, length, width):\n",
        "        self.length = length\n",
        "        self.width = width\n",
        "\n",
        "    def area(self):\n",
        "        return self.length * self.width\n",
        "\n",
        "\n",
        "\n",
        "\n",
        "\n"
      ],
      "metadata": {
        "id": "jI0Fjq_WDFK0"
      },
      "execution_count": null,
      "outputs": []
    },
    {
      "cell_type": "code",
      "source": [
        " '''3. Implement a multi-level inheritance scenario where a class Vehicle has an attribute type. Derive a class Car\n",
        "# and further derive a class ElectricCar that adds a battery attribute.'''\n",
        "\n",
        "class Vehicle:\n",
        "  def __init__(self, type):\n",
        "    self.type = type\n",
        "\n",
        "class Car(Vehicle):\n",
        "  def __init__(self, type, model):\n",
        "    super().__init__(type)\n",
        "    self.model = model\n",
        "\n",
        "class ElectricCar(Car):\n",
        "  def __init__(self, type, model, battery):\n",
        "    super().__init__(type, model)\n",
        "    self.battery = battery\n",
        "\n",
        "# Example usage\n",
        "my_electric_car = ElectricCar(\"car\", \"Tesla Model S\", \"100 kWh\")\n",
        "print(f\"Vehicle Type: {my_electric_car.type}\")\n",
        "print(f\"Car Model: {my_electric_car.model}\")\n",
        "print(f\"Battery Capacity: {my_electric_car.battery}\")"
      ],
      "metadata": {
        "colab": {
          "base_uri": "https://localhost:8080/"
        },
        "id": "nfaQTqRhX7gf",
        "outputId": "0b309b13-e102-4754-8b18-f2a838f4a928"
      },
      "execution_count": 4,
      "outputs": [
        {
          "output_type": "stream",
          "name": "stdout",
          "text": [
            "Vehicle Type: car\n",
            "Car Model: Tesla Model S\n",
            "Battery Capacity: 100 kWh\n"
          ]
        }
      ]
    },
    {
      "cell_type": "code",
      "source": [
        "#  4. Demonstrate polymorphism by creating a base class Bird with a method fly(). Create two derived classes\n",
        "# Sparrow and Penguin that override the fly() method.\n",
        "\n",
        "class Bird:\n",
        "  def fly(self):\n",
        "    print(\"This bird can fly.\")\n",
        "\n",
        "class Sparrow(Bird):\n",
        "  def fly(self):\n",
        "    print(\"The sparrow flies gracefully.\")\n",
        "\n",
        "class Penguin(Bird):\n",
        "  def fly(self):\n",
        "    print(\"The penguin cannot fly, but it can swim!\")\n"
      ],
      "metadata": {
        "id": "g0oTCD0ZYNAn"
      },
      "execution_count": null,
      "outputs": []
    },
    {
      "cell_type": "code",
      "source": [
        "#  5. Write a program to demonstrate encapsulation by creating a class BankAccount with private attributes\n",
        "# balance and methods to deposit, withdraw, and check balance.\n",
        "\n",
        "class BankAccount:\n",
        "    def __init__(self):\n",
        "        self.__balance = 0\n",
        "\n",
        "    def deposit(self, amount):\n",
        "        if amount > 0:\n",
        "            self.__balance += amount\n",
        "            print(f\"Deposited: {amount}. New balance: {self.__balance}\")\n",
        "        else:\n",
        "            print(\"Deposit amount must be positive.\")\n",
        "\n",
        "    def withdraw(self, amount):\n",
        "        if amount > 0:\n",
        "            if self.__balance >= amount:\n",
        "                self.__balance -= amount\n",
        "                print(f\"Withdrew: {amount}. New balance: {self.__balance}\")\n",
        "            else:\n",
        "                print(\"Insufficient funds.\")\n",
        "        else:\n",
        "            print(\"Withdrawal amount must be positive.\")\n",
        "\n",
        "    def check_balance(self):\n",
        "        print(f\"Current balance:{self.__balance}\")\n"
      ],
      "metadata": {
        "id": "Gm8u-d1ZYW9S"
      },
      "execution_count": 3,
      "outputs": []
    },
    {
      "cell_type": "code",
      "source": [
        "#  6. Demonstrate runtime polymorphism using a method play() in a base class Instrument. Derive classes Guitar\n",
        "# and Piano that implement their own version of play().\n",
        "\n",
        "class Instrument:\n",
        "  def play(self):\n",
        "    print(\"The instrument is playing a sound.\")\n",
        "\n",
        "class Guitar(Instrument):\n",
        "  def play(self):\n",
        "    print(\"The guitar is strumming a melody.\")\n",
        "\n",
        "class Piano(Instrument):\n",
        "  def play(self):\n",
        "    print(\"The piano is playing a chord.\")\n",
        "\n",
        "# Demonstrate runtime polymorphism\n",
        "def make_instrument_play(instrument):\n",
        "  instrument.play()\n",
        "\n",
        "# Create instances of the classes\n",
        "my_guitar = Guitar()\n",
        "my_piano = Piano()\n",
        "generic_instrument = Instrument()\n",
        "\n",
        "# Call the function with different instrument objects\n",
        "make_instrument_play(generic_instrument)\n",
        "make_instrument_play(my_guitar)\n",
        "make_instrument_play(my_piano)\n"
      ],
      "metadata": {
        "id": "r2JomjYFZKwc"
      },
      "execution_count": null,
      "outputs": []
    },
    {
      "cell_type": "code",
      "source": [
        "# 7. Create a class MathOperations with a class method add_numbers() to add two numbers and a static\n",
        "# method subtract_numbers() to subtract two numbers.\n",
        "\n",
        "class MathOperations:\n",
        "  @classmethod\n",
        "  def add_numbers(cls, num1, num2):\n",
        "    return num1 + num2\n",
        "\n",
        "  @staticmethod\n",
        "  def subtract_numbers(num1, num2):\n",
        "    return num1 - num2\n",
        "\n",
        "# Example usage\n",
        "sum_result = MathOperations.add_numbers(10, 5)\n",
        "print(f\"Sum: {sum_result}\")\n",
        "\n",
        "difference_result = MathOperations.subtract_numbers(10, 5)\n",
        "print(f\"Difference: {difference_result}\")\n"
      ],
      "metadata": {
        "id": "oqQjMFZPZVdV"
      },
      "execution_count": null,
      "outputs": []
    },
    {
      "cell_type": "code",
      "source": [
        "#  8. Implement a class Person with a class method to count the total number of persons created.\n",
        "\n",
        "class Person:\n",
        "  count = 0\n",
        "\n",
        "  def __init__(self, name):\n",
        "    self.name = name\n",
        "    Person.count += 1\n",
        "\n",
        "  @classmethod\n",
        "  def total_persons(cls):\n",
        "    return cls.count\n",
        "\n",
        "# Example usage\n",
        "person1 = Person(\"Alice\")\n",
        "person2 = Person(\"Bob\")\n",
        "person3 = Person(\"Charlie\")\n",
        "\n",
        "print(f\"Total number of persons created: {Person.total_persons()}\")"
      ],
      "metadata": {
        "id": "Koo28TCgZnXB"
      },
      "execution_count": null,
      "outputs": []
    },
    {
      "cell_type": "code",
      "source": [
        "# prompt: 9. Write a class Fraction with attributes numerator and denominator. Override the str method to display the\n",
        "# fraction as \"numerator/denominator\".\n",
        "\n",
        "class Fraction:\n",
        "  def __init__(self, numerator, denominator):\n",
        "    self.numerator = numerator\n",
        "    self.denominator = denominator\n",
        "\n",
        "  def __str__(self):\n",
        "    return f\"{self.numerator}/{self.denominator}\""
      ],
      "metadata": {
        "id": "qV_1wUeRZxPO"
      },
      "execution_count": null,
      "outputs": []
    },
    {
      "cell_type": "code",
      "source": [
        "#  10. Demonstrate operator overloading by creating a class Vector and overriding the add method to add two\n",
        "# vectors.\n",
        "\n",
        "class Vector:\n",
        "  def __init__(self, x, y):\n",
        "    self.x = x\n",
        "    self.y = y\n",
        "\n",
        "  def __add__(self, other):\n",
        "    if isinstance(other, Vector):\n",
        "      return Vector(self.x + other.x, self.y + other.y)\n",
        "    else:\n",
        "      raise TypeError(\"Can only add another Vector object\")\n",
        "\n",
        "  def __str__(self):\n",
        "    return f\"({self.x}, {self.y})\"\n",
        "\n",
        "# Example usage:\n",
        "v1 = Vector(2, 3)\n",
        "v2 = Vector(4, 5)\n",
        "v3 = v1 + v2\n",
        "v3"
      ],
      "metadata": {
        "id": "1gX_vs1QZ7Jj"
      },
      "execution_count": null,
      "outputs": []
    },
    {
      "cell_type": "code",
      "source": [
        "#  11. Create a class Person with attributes name and age. Add a method greet() that prints \"Hello, my name is\n",
        "# {name} and I am {age} years old.\"\n",
        "\n",
        "class Person:\n",
        "  def __init__(self, name, age):\n",
        "    self.name = name\n",
        "    self.age = age\n",
        "\n",
        "  def greet(self):\n",
        "    print(f\"Hello, my name is {self.name} and I am {self.age} years old.\")\n"
      ],
      "metadata": {
        "id": "fOrdPteRaJzt"
      },
      "execution_count": null,
      "outputs": []
    },
    {
      "cell_type": "code",
      "source": [
        "# prompt: 12. Implement a class Student with attributes name and grades. Create a method average_grade() to compute\n",
        "# the average of the grades.\n",
        "\n",
        "class Student:\n",
        "    def __init__(self, name, grades):\n",
        "        self.name = name\n",
        "        self.grades = grades\n",
        "\n",
        "    def average_grade(self):\n",
        "        if not self.grades:\n",
        "            return 0\n",
        "        return sum(self.grades) / len(self.grades)"
      ],
      "metadata": {
        "id": "2ODLqdcJaT8y"
      },
      "execution_count": null,
      "outputs": []
    },
    {
      "cell_type": "code",
      "source": [
        "# 13. Create a class Rectangle with methods set_dimensions() to set the dimensions and area() to calculate the\n",
        "# area.\n",
        "\n",
        "class Rectangle:\n",
        "  def __init__(self):\n",
        "    self.length = 0\n",
        "    self.width = 0\n",
        "\n",
        "  def set_dimensions(self, length, width):\n",
        "    self.length = length\n",
        "    self.width = width\n",
        "\n",
        "  def area(self):\n",
        "    return self.length * self.width\n",
        "\n",
        "# Example usage:\n",
        "my_rectangle = Rectangle()\n",
        "my_rectangle.set_dimensions(5, 10)\n",
        "print(f\"Area of the rectangle: {my_rectangle.area()}\")"
      ],
      "metadata": {
        "id": "3XdaXEfkacgd"
      },
      "execution_count": null,
      "outputs": []
    },
    {
      "cell_type": "code",
      "source": [
        "#  14. Create a class Employee with a method calculate_salary() that computes the salary based on hours worked\n",
        "# and hourly rate. Create a derived class Manager that adds a bonus to the salary.\n",
        "# Practical Questions\n",
        "# Java + DSA Pwskills\n",
        "\n",
        "class Employee:\n",
        "  def __init__(self, hours_worked, hourly_rate):\n",
        "    self.hours_worked = hours_worked\n",
        "    self.hourly_rate = hourly_rate\n",
        "\n",
        "  def calculate_salary(self):\n",
        "    return self.hours_worked * self.hourly_rate\n",
        "\n",
        "class Manager(Employee):\n",
        "  def __init__(self, hours_worked, hourly_rate, bonus):\n",
        "    super().__init__(hours_worked, hourly_rate)\n",
        "    self.bonus = bonus\n",
        "\n",
        "  def calculate_salary(self):\n",
        "    base_salary = super().calculate_salary()\n",
        "    return base_salary + self.bonus\n",
        "\n",
        "# Example usage\n",
        "employee1 = Employee(40, 15)\n",
        "print(f\"Employee salary: ${employee1.calculate_salary()}\")\n",
        "\n",
        "manager1 = Manager(40, 20, 500)\n",
        "print(f\"Manager salary: ${manager1.calculate_salary()}\")\n"
      ],
      "metadata": {
        "id": "UGb3g03xau4W"
      },
      "execution_count": null,
      "outputs": []
    },
    {
      "cell_type": "code",
      "source": [
        "#  15. Create a class Product with attributes name, price, and quantity. Implement a method total_price() that\n",
        "# calculates the total price of the product.\n",
        "\n",
        "class Product:\n",
        "  def __init__(self, name, price, quantity):\n",
        "    self.name = name\n",
        "    self.price = price\n",
        "    self.quantity = quantity\n",
        "\n",
        "  def total_price(self):\n",
        "    return self.price * self.quantity\n",
        "\n",
        "# Example usage\n",
        "product1 = Product(\"Laptop\", 1200, 2)\n",
        "print(f\"Total price for {product1.name}: ${product1.total_price()}\")"
      ],
      "metadata": {
        "id": "3sgEtvEpa9EP"
      },
      "execution_count": null,
      "outputs": []
    },
    {
      "cell_type": "code",
      "source": [
        "# 16. Create a class Animal with an abstract method sound(). Create two derived classes Cow and Sheep that\n",
        "# implement the sound() method.\n",
        "\n",
        "class Animal(ABC):\n",
        "  @abstractmethod\n",
        "  def sound(self):\n",
        "    pass\n",
        "\n",
        "class Cow(Animal):\n",
        "  def sound(self):\n",
        "    return \"Moo\"\n",
        "\n",
        "class Sheep(Animal):\n",
        "  def sound(self):\n",
        "    return \"Baa\""
      ],
      "metadata": {
        "id": "0EeVyjN-bE1K"
      },
      "execution_count": null,
      "outputs": []
    },
    {
      "cell_type": "code",
      "source": [
        "#  17. Create a class Book with attributes title, author, and year_published. Add a method get_book_info() that\n",
        "# returns a formatted string with the book's details.\n",
        "\n",
        "class Book:\n",
        "  def __init__(self, title, author, year_published):\n",
        "    self.title = title\n",
        "    self.author = author\n",
        "    self.year_published = year_published\n",
        "\n",
        "  def get_book_info(self):\n",
        "    return f\"Title: {self.title}, Author: {self.author}, Year Published: {self.year_published}\"\n",
        "\n",
        "\n",
        "my_book = Book(\"The Great Gatsby\", \"F. Scott Fitzgerald\", 1925)\n",
        "print(my_book.get_book_info())\n"
      ],
      "metadata": {
        "id": "O5K-YoWFbUS_"
      },
      "execution_count": null,
      "outputs": []
    },
    {
      "cell_type": "code",
      "source": [
        "#  18. Create a class House with attributes address and price. Create a derived class Mansion that adds an\n",
        "# attribute number_of_rooms.\n",
        "\n",
        "class House:\n",
        "  def __init__(self, address, price):\n",
        "    self.address = address\n",
        "    self.price = price\n",
        "\n",
        "class Mansion(House):\n",
        "  def __init__(self, address, price, number_of_rooms):\n",
        "    super().__init__(address, price)\n",
        "    self.number_of_rooms = number_of_rooms\n"
      ],
      "metadata": {
        "id": "WybY0Rmaek3U"
      },
      "execution_count": null,
      "outputs": []
    },
    {
      "cell_type": "markdown",
      "source": [
        "\n",
        "1.What is Object-Oriented Programming (OOP)?\n",
        "-OOP is a programming paradigm centered around objects, which are instances of classes. It promotes code reusability, modularity, and organization using concepts like encapsulation, inheritance, abstraction, and polymorphism.\n",
        "\n",
        "2.What is a class in OOP?\n",
        "-A class is a blueprint or template for creating objects. It defines attributes (variables) and methods (functions) for the objects.\n",
        "\n",
        "3.What is an object in OOP?\n",
        "-An object is an instance of a class. It holds actual data and can perform actions defined in the class.\n",
        "\n",
        "4.What is the difference between abstraction and encapsulation?\n",
        "-Abstraction hides implementation details and shows only essential features, while encapsulation restricts direct access to data by bundling it with methods that modify it.\n",
        "\n",
        "5.What are dunder methods in Python?\n",
        "-Dunder (double underscore) methods like __init__, __str__, and __repr__ are special methods that define how built-in operations behave for an object.\n",
        "\n",
        "6.Explain the concept of inheritance in OOP.\n",
        "-Inheritance allows a class (child) to inherit attributes and methods from another class (parent), promoting code reuse.\n",
        "\n",
        "7.What is polymorphism in OOP?\n",
        "-Polymorphism allows methods with the same name to behave differently depending on the object or class context.\n",
        "\n",
        "8.How is encapsulation achieved in Python?\n",
        "-Encapsulation is achieved using private variables (with _ or __ prefix) and defining getters and setters to control access.\n",
        "\n",
        "9.What is a constructor in Python?\n",
        "-A constructor is the __init__ method that is automatically called when an object is created to initialize attributes.\n",
        "\n",
        "10.What are class and static methods in Python?\n",
        "-Class methods use @classmethod and take 'cls' as the first parameter. Static methods use @staticmethod and don’t take 'self' or 'cls'.\n",
        "\n",
        "11.What is method overloading in Python?\n",
        "-Python doesn’t support traditional method overloading. Instead, it uses d\n",
        "default arguments or *args/**kwargs.\n",
        "\n",
        "12.What is method overriding in OOP?\n",
        "-Method overriding occurs when a subclass provides its own implementation of a method from its parent class.\n",
        "\n",
        "13.What is a property decorator in Python?\n",
        "-@property is used to make a method act like an attribute, encapsulating getter/setter logic.\n",
        "\n",
        "14.Why is polymorphism important in OOP?\n",
        "-It allows for flexible and scalable code by enabling the same interface to behave differently across classes.\n",
        "\n",
        "15.What is an abstract class in Python?\n",
        "-An abstract class contains one or more abstract methods and cannot be instantiated. It uses the abc module.\n",
        "\n",
        "16.What are the advantages of OOP?\n",
        "-OOP offers code reuse, modularity, easy maintenance, encapsulation for data protection, and polymorphism for flexibility.\n",
        "17.What is the difference between a class variable and an instance variable?\n",
        "-Class variables are shared across all instances, while instance variables are unique to each object.\n",
        "\n",
        "18.What is multiple inheritance in Python?\n",
        "-Multiple inheritance allows a class to inherit from more than one base class.\n",
        "\n",
        "19.Explain the purpose of __str__ and __repr__ methods in Python.\n",
        "-\n",
        "__str__ returns a user-friendly string, while __repr__ returns a more developer-oriented representation.\n",
        "\n",
        "20.What is the significance of the super() function in Python?\n",
        "-super() is used to call methods from the parent class, often in constructors to extend functionality.\n",
        "\n",
        "21.What is the significance of the __del__ method in Python?\n",
        "__del__ is a destructor method called when an object is about to be destroyed, used for cleanup.\n",
        "\n",
        "22.What is the difference between @staticmethod and @classmethod in Python?\n",
        "-@staticmethod has no access to class or instance data. @classmethod takes 'cls' and can modify class state.\n",
        "\n",
        "23.How does polymorphism work in Python with inheritance?\n",
        "-Polymorphism allows subclasses to override methods from the parent class, and the method call is resolved at runtime.\n",
        "\n",
        "24.What is method chaining in Python OOP?\n",
        "-Method chaining allows calling multiple methods on an object in a single line by returning 'self' from each method.\n",
        "\n",
        "25.What is the purpose of the __call__ method in Python?\n",
        "__call__ lets an object be called like a function, adding flexibility to how it behaves.\n"
      ],
      "metadata": {
        "id": "G66Z5ISJcoqQ"
      }
    },
    {
      "cell_type": "markdown",
      "source": [
        "\n",
        "\n",
        "\n",
        "\n",
        "\n",
        "\n",
        "\n"
      ],
      "metadata": {
        "id": "z8SsTwWRBAO9"
      }
    },
    {
      "cell_type": "code",
      "source": [
        "\n"
      ],
      "metadata": {
        "id": "yBEsCx4lDXtv"
      },
      "execution_count": null,
      "outputs": []
    }
  ]
}