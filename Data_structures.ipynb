{
  "nbformat": 4,
  "nbformat_minor": 0,
  "metadata": {
    "colab": {
      "provenance": []
    },
    "kernelspec": {
      "name": "python3",
      "display_name": "Python 3"
    },
    "language_info": {
      "name": "python"
    }
  },
  "cells": [
    {
      "cell_type": "markdown",
      "source": [
        "1.What are data structures, and why are they important?\n",
        "-Data structures are a way of organizing and storing data in a computer so that it can be used efficiently. They are important for programming because they allow developers to manage and manipulate data effectively, leading to optimized performance and easier code maintenance.\n",
        "2.  Explain the difference between mutable and immutable data types with examples\n",
        "Mutable data types can be changed means once defined after that they can be updated like lists,sets and dictionaries whereas immutable can not be changed once after defining like tuples.\n",
        "3.What are the main differences between lists and tuples in Python?\n",
        "- Lists are mutable whereas tuples are not i.e immutable.\n",
        "-Lists have many in built functions whereas tuples have only two functions.\n",
        "-Lists use [] brackets whereas tuples use () brackets.\n",
        "-Tuples can be accessed faster than list.\n",
        "4. Describe how dictionaries store data.\n",
        "- Dictionaries in python store data in the form of key and value pair.\n",
        "Example – A={‘name’:’abc,’age’:21}\n",
        "5. Why might you use a set instead of a list in Python?\n",
        "- I might use set instead of a list in python because sets remove duplicacy. Set to not show duplicate data multiple times.\n",
        "Ex-A={1,2,2,2,3,3}\n",
        "Print(A)\n",
        "A={1,2,3}\n",
        " 6.What is a string in Python, and how is it different from a list?\n",
        "- Strings in python are stored as individual character in continuous locations with two way index for each location. Listen strings have a lot in common yet differences too list a stored exactly like strings in the memory except that because some of their objects are larger than others they store a reference at each index instead of single character as in strings.\n",
        "Strings are not mutable whereas lists are.\n",
        "\n",
        "7.How do tuples ensure data integrity in Python?\n",
        "-Tuples ensure data integrity in python as they are immutable\n",
        "8.What is a hash table, and how does it relate to dictionaries in Python?\n",
        "- A hash table is a data structure that stores key-value pairs, allowing for efficient retrieval, insertion, and deletion of data. It uses a hash function to map keys to indices within an array, known as \"buckets\" or \"slots.\" When a key-value pair is inserted, the hash function computes an index from the key, and the value is stored at that index. For retrieval, the same hash function is applied to the key to quickly locate the corresponding value.\n",
        " 9. Can lists contain different data types in Python?\n",
        "-Yes,lists contain different data types in Python.\n",
        "Ex-lst=[“abc”,21,2.1,3i+2j}\n",
        " 10.Explain why strings are immutable in Python.\n",
        "- Strings are immutable in python because we cannot change individual elements of a string in place.\n",
        "11. What advantages do dictionaries offer over lists for certain tasks?\n",
        "- Dictionaries can be much more useful than lists for example suppose we wanted to store all our friends’ cell phone numbers we could create a list of pairs name of friend phone number but once this list becomes long enough searching this list for a specific phone number will get time consuming better would be if we could index the list by our friend’s name this is precisely what a dictionary does\n",
        "12.Describe a scenario where using a tuple would be preferable over a list.\n",
        "- A scenario where using a tuple would be preferable over a list where the data cannot be changed .For example -the tuple containing  employee ids or date of birth records can not be changed.\n",
        "13. How do sets handle duplicate values in Python?\n",
        "-Sets remove the duplicate values while executing the program.Sets take it as one value only.\n",
        "Ex-A={1,2,2,2,3,3}\n",
        "Print(A)\n",
        "A={1,2,3}\n",
        "\n",
        "14. How does the “in” keyword work differently for lists and dictionaries?\n",
        "-\tIn keyword in list is used to check if this mentioned value is the member of the given list whereas in keyword in dictionary is used to check the existence of keys in the dictionary.\n",
        "15. Can you modify the elements of a tuple? Explain why or why not?\n",
        "- No we cannot modify the elements of a tuple because tuple is an immutable data type in python.\n",
        "16. What is a nested dictionary, and give an example of its use case?\n",
        "- Unlisted dictionary is a dictionary inside a dictionary.\n",
        "A use case can be organizing student  information by class, with the class name as the outer key and student details (name, ID, etc.) as the inner dictionary\n",
        " 17. Describe the time complexity of accessing elements in a dictionary.\n",
        "- Python dictionaries are implemented using hash tables. When you access a value by key, the hash table uses a hash function to quickly determine the \"bucket\" where the key-value pair is stored. This hashing process takes constant time on average, resulting in O(1) lookup time.\n",
        "  18.In what situations are lists preferred over dictionaries?\n",
        "- Lists are preferred over dictionaries in the scenario where we don't have values in pairs.For example ,we just have to store a list of students participating in a sport from one class.\n",
        "19.Why are dictionaries considered unordered, and how does that affect data retrieval?\n",
        "- A dictionary is an unordered set of key: value pairs. It’s a value can contain references to any type of object. You cannot tell the order or position of key value pair in a dictionary as there is no index associated. Internally the key: value pairs of a dictionary are associated with one another with some internal function called hash function.\n",
        "20.Explain the difference between a list and a dictionary in terms of data retrieval.\n",
        "- Data retrieval in a list is done through indexing. Each value in a list is stored on any particular index using which we can retrieve the data whereas in a dictionary the data retrieval is done using the key. . Internally the key: value pairs of a dictionary are associated with one another with some internal function called hash function.\n"
      ],
      "metadata": {
        "id": "OkU9zbL_H4Hi"
      }
    },
    {
      "cell_type": "code",
      "execution_count": null,
      "metadata": {
        "colab": {
          "base_uri": "https://localhost:8080/"
        },
        "id": "QgYEpRASSdTm",
        "outputId": "c826d137-4245-46ac-aa52-6d666eb33de4"
      },
      "outputs": [
        {
          "output_type": "stream",
          "name": "stdout",
          "text": [
            "enter your nameShruti\n",
            "Shruti\n"
          ]
        }
      ],
      "source": [
        "# Write a code to create a string with your name and print it.\n",
        "name=input(\"enter your name\")\n",
        "print (name)"
      ]
    },
    {
      "cell_type": "markdown",
      "source": [],
      "metadata": {
        "id": "NhGA6qwrH2Sp"
      }
    },
    {
      "cell_type": "code",
      "source": [
        "#Write a code to find the length of the string \"Hello World\"\n",
        "print(len(\"Hello World\"))"
      ],
      "metadata": {
        "colab": {
          "base_uri": "https://localhost:8080/"
        },
        "id": "jqHDO-rmTIPS",
        "outputId": "73dd6e00-68ce-4e67-cb6a-472858b45d71"
      },
      "execution_count": null,
      "outputs": [
        {
          "output_type": "stream",
          "name": "stdout",
          "text": [
            "11\n"
          ]
        }
      ]
    },
    {
      "cell_type": "markdown",
      "source": [
        "\n"
      ],
      "metadata": {
        "id": "_gnmE4HeSgty"
      }
    },
    {
      "cell_type": "code",
      "source": [],
      "metadata": {
        "id": "XK6Iok6OVZ3X"
      },
      "execution_count": null,
      "outputs": []
    },
    {
      "cell_type": "code",
      "source": [
        "#Write a code to slice the first 3 characters from the string \"Python Programming\"\n",
        "str=\"Python Programming\"\n",
        "print(str[0:3])"
      ],
      "metadata": {
        "colab": {
          "base_uri": "https://localhost:8080/"
        },
        "id": "ogwcGMZPTalZ",
        "outputId": "166858fc-513c-4087-9934-d0bf1fe9fd7b"
      },
      "execution_count": null,
      "outputs": [
        {
          "output_type": "stream",
          "name": "stdout",
          "text": [
            "Pyt\n"
          ]
        }
      ]
    },
    {
      "cell_type": "code",
      "source": [
        "#Write a code to convert the string \"hello\" to uppercase\n",
        "txt=\"hello\"\n",
        "x=txt.upper()\n",
        "print(x)"
      ],
      "metadata": {
        "colab": {
          "base_uri": "https://localhost:8080/"
        },
        "id": "tsn7pt7lT9HX",
        "outputId": "69bdb751-9f0b-4520-db0e-e2fcc50646c4"
      },
      "execution_count": null,
      "outputs": [
        {
          "output_type": "stream",
          "name": "stdout",
          "text": [
            "HELLO\n"
          ]
        }
      ]
    },
    {
      "cell_type": "code",
      "source": [
        " #Write a code to replace the word \"apple\" with \"orange\" in the string \"I like apple\"\n",
        "str=\"I like apple\"\n",
        "str.replace(\"apple\",\"orange\")"
      ],
      "metadata": {
        "id": "ssE0HbR6VdDS",
        "colab": {
          "base_uri": "https://localhost:8080/",
          "height": 36
        },
        "outputId": "6a694301-249d-445f-f8bd-6baacc0e9100"
      },
      "execution_count": null,
      "outputs": [
        {
          "output_type": "execute_result",
          "data": {
            "text/plain": [
              "'I like orange'"
            ],
            "application/vnd.google.colaboratory.intrinsic+json": {
              "type": "string"
            }
          },
          "metadata": {},
          "execution_count": 7
        }
      ]
    },
    {
      "cell_type": "code",
      "source": [
        "#Write a code to create a list with numbers 1 to 5 and print it\n",
        "lst=[]\n",
        "for i in range(1,6):\n",
        "  lst.append(i)\n",
        "print (lst)"
      ],
      "metadata": {
        "colab": {
          "base_uri": "https://localhost:8080/"
        },
        "id": "exNzrvchVsFH",
        "outputId": "e2d07241-fee7-4748-e990-ee53ab93e0dc"
      },
      "execution_count": null,
      "outputs": [
        {
          "output_type": "stream",
          "name": "stdout",
          "text": [
            "[1, 2, 3, 4, 5]\n"
          ]
        }
      ]
    },
    {
      "cell_type": "code",
      "source": [
        "#Write a code to append the number 10 to the list [1, 2, 3, 4]\n",
        "lst1=[1,2,3,4]\n",
        "lst1.append(10)\n",
        "lst1"
      ],
      "metadata": {
        "colab": {
          "base_uri": "https://localhost:8080/"
        },
        "id": "Q2ghbqMx7NLw",
        "outputId": "8a1cdd42-c9c2-4278-81c6-89513868c525"
      },
      "execution_count": null,
      "outputs": [
        {
          "output_type": "execute_result",
          "data": {
            "text/plain": [
              "[1, 2, 3, 4, 10]"
            ]
          },
          "metadata": {},
          "execution_count": 18
        }
      ]
    },
    {
      "cell_type": "code",
      "source": [
        "#Write a code to remove the number 3 from the list [1, 2, 3, 4, 5]\n",
        "lst1=[1,2,3,4,5]\n",
        "lst1.remove(3)\n",
        "lst1"
      ],
      "metadata": {
        "colab": {
          "base_uri": "https://localhost:8080/"
        },
        "id": "eKFFF9xc8kFQ",
        "outputId": "52d97c58-4033-49e1-8a97-8beae9a8dbfb"
      },
      "execution_count": null,
      "outputs": [
        {
          "output_type": "execute_result",
          "data": {
            "text/plain": [
              "[1, 2, 4, 5]"
            ]
          },
          "metadata": {},
          "execution_count": 19
        }
      ]
    },
    {
      "cell_type": "code",
      "source": [
        "# Write a code to access the second element in the list ['a', 'b', 'c', 'd']\n",
        "lst=['a','b','c','d']\n",
        "lst[1]"
      ],
      "metadata": {
        "colab": {
          "base_uri": "https://localhost:8080/",
          "height": 36
        },
        "id": "AA1MUoev9OCT",
        "outputId": "353f3328-94cd-4414-90ee-2795c3fc3231"
      },
      "execution_count": null,
      "outputs": [
        {
          "output_type": "execute_result",
          "data": {
            "text/plain": [
              "'b'"
            ],
            "application/vnd.google.colaboratory.intrinsic+json": {
              "type": "string"
            }
          },
          "metadata": {},
          "execution_count": 20
        }
      ]
    },
    {
      "cell_type": "code",
      "source": [
        "#Write a code to reverse the list [10, 20, 30, 40, 50].\n",
        "lst=[10,20,30,40,50]\n",
        "for i in range(len(lst)-1,-1,-1):\n",
        "  print(lst[i])\n"
      ],
      "metadata": {
        "colab": {
          "base_uri": "https://localhost:8080/"
        },
        "id": "08q_R4s79pUu",
        "outputId": "55b4495f-a1f9-4a74-9aa9-bc06e6b93e0c"
      },
      "execution_count": null,
      "outputs": [
        {
          "output_type": "stream",
          "name": "stdout",
          "text": [
            "50\n",
            "40\n",
            "30\n",
            "20\n",
            "10\n"
          ]
        }
      ]
    },
    {
      "cell_type": "code",
      "source": [
        "#11. Write a code to create a tuple with the elements 100, 200, 300 and print it.\n",
        "tup=(100,200,300)\n",
        "tup"
      ],
      "metadata": {
        "colab": {
          "base_uri": "https://localhost:8080/"
        },
        "id": "L7vlJLftAzjV",
        "outputId": "5b5a977a-1e85-4a14-8b01-9cb42219f4b1"
      },
      "execution_count": null,
      "outputs": [
        {
          "output_type": "execute_result",
          "data": {
            "text/plain": [
              "(100, 200, 300)"
            ]
          },
          "metadata": {},
          "execution_count": 31
        }
      ]
    },
    {
      "cell_type": "code",
      "source": [
        "#12. Write a code to access the second-to-last element of the tuple ('red', 'green', 'blue', 'yellow').\n",
        "tup=('red', 'green', 'blue', 'yellow')\n",
        "for i in range(len(tup)-1,-1,-1):\n",
        "  print(tup[i])"
      ],
      "metadata": {
        "colab": {
          "base_uri": "https://localhost:8080/"
        },
        "id": "DU26Z_DdBBB8",
        "outputId": "6a9083cf-3602-442c-ea76-9a94c9d1c506"
      },
      "execution_count": null,
      "outputs": [
        {
          "output_type": "stream",
          "name": "stdout",
          "text": [
            "yellow\n",
            "blue\n",
            "green\n",
            "red\n"
          ]
        }
      ]
    },
    {
      "cell_type": "code",
      "source": [
        "# 13. Write a code to find the minimum number in the tuple (10, 20, 5, 15).\n",
        "tup=(10, 20, 5, 15)\n",
        "min(tup)"
      ],
      "metadata": {
        "colab": {
          "base_uri": "https://localhost:8080/"
        },
        "id": "XvgjjdOqBb6L",
        "outputId": "56f7f0e3-f16b-48e1-f871-1d6c97606575"
      },
      "execution_count": null,
      "outputs": [
        {
          "output_type": "execute_result",
          "data": {
            "text/plain": [
              "5"
            ]
          },
          "metadata": {},
          "execution_count": 34
        }
      ]
    },
    {
      "cell_type": "code",
      "source": [
        "#. 14.Write a code to find the index of the element \"cat\" in the tuple ('dog', 'cat', 'rabbit').\n",
        "tup=('dog', 'cat', 'rabbit')\n",
        "tup.index('cat')"
      ],
      "metadata": {
        "colab": {
          "base_uri": "https://localhost:8080/"
        },
        "id": "rz9x8NhWCESf",
        "outputId": "ebca6eb3-305a-4efa-fe4a-e75b8d1f2a82"
      },
      "execution_count": null,
      "outputs": [
        {
          "output_type": "execute_result",
          "data": {
            "text/plain": [
              "1"
            ]
          },
          "metadata": {},
          "execution_count": 35
        }
      ]
    },
    {
      "cell_type": "code",
      "source": [
        "# 15.Write a code to create a tuple containing three different fruits and check if \"kiwi\" is in it.\n",
        "fruits=('mango','apple','grapes')\n",
        "print('kiwi'in fruits)"
      ],
      "metadata": {
        "colab": {
          "base_uri": "https://localhost:8080/"
        },
        "id": "zJcutfZlCnA5",
        "outputId": "610c72f6-11c2-48b1-ed9e-a29b06f80c8c"
      },
      "execution_count": null,
      "outputs": [
        {
          "output_type": "stream",
          "name": "stdout",
          "text": [
            "False\n"
          ]
        }
      ]
    },
    {
      "cell_type": "code",
      "source": [
        "#16.Write a code to create a set with the elements 'a', 'b', 'c' and print it.\n",
        "set1={'a','b','c'}\n",
        "set1"
      ],
      "metadata": {
        "colab": {
          "base_uri": "https://localhost:8080/"
        },
        "id": "OYWXsr1pDhY9",
        "outputId": "ad95cc9d-2b50-49ff-b42d-c21e2fb80635"
      },
      "execution_count": null,
      "outputs": [
        {
          "output_type": "execute_result",
          "data": {
            "text/plain": [
              "{'a', 'b', 'c'}"
            ]
          },
          "metadata": {},
          "execution_count": 41
        }
      ]
    },
    {
      "cell_type": "code",
      "source": [
        "#17.Write a code to clear all elements from the set {1, 2, 3, 4, 5}.\n",
        "set1={1, 2, 3, 4, 5}\n",
        "set1.clear()\n",
        "set1\n"
      ],
      "metadata": {
        "colab": {
          "base_uri": "https://localhost:8080/"
        },
        "id": "6cpQKFuIDzmM",
        "outputId": "0e30fdc8-4f89-4354-8db6-ef7e2db94fac"
      },
      "execution_count": null,
      "outputs": [
        {
          "output_type": "execute_result",
          "data": {
            "text/plain": [
              "set()"
            ]
          },
          "metadata": {},
          "execution_count": 45
        }
      ]
    },
    {
      "cell_type": "code",
      "source": [
        "#18. Write a code to remove the element 4 from the set {1, 2, 3, 4}.\n",
        "set1={1, 2, 3, 4}\n",
        "set1.remove(4)\n",
        "set1\n"
      ],
      "metadata": {
        "colab": {
          "base_uri": "https://localhost:8080/"
        },
        "id": "bF6zx3ikEVM3",
        "outputId": "11f064b7-a6a1-4ad4-bbdd-d029317be91c"
      },
      "execution_count": null,
      "outputs": [
        {
          "output_type": "execute_result",
          "data": {
            "text/plain": [
              "{1, 2, 3}"
            ]
          },
          "metadata": {},
          "execution_count": 46
        }
      ]
    },
    {
      "cell_type": "code",
      "source": [
        "#19. Write a code to find the union of two sets {1, 2, 3} and {3, 4, 5}.\n",
        "set1={1,2,3}\n",
        "set2={2,3,4}\n",
        "set1.union(set2)"
      ],
      "metadata": {
        "colab": {
          "base_uri": "https://localhost:8080/"
        },
        "id": "hNblnEGHExYK",
        "outputId": "fe4218c4-2606-42a0-b077-494b101876bf"
      },
      "execution_count": null,
      "outputs": [
        {
          "output_type": "execute_result",
          "data": {
            "text/plain": [
              "{1, 2, 3, 4}"
            ]
          },
          "metadata": {},
          "execution_count": 48
        }
      ]
    },
    {
      "cell_type": "code",
      "source": [
        "#20. Write a code to find the intersection of two sets {1, 2, 3} and {2, 3, 4}.\n",
        "set1={1,2,3}\n",
        "set2={2,3,4}\n",
        "set1.intersection(set2)"
      ],
      "metadata": {
        "colab": {
          "base_uri": "https://localhost:8080/"
        },
        "id": "BR_1B_MeFT99",
        "outputId": "410e17fb-b38d-4543-fd83-603a8b9fa53f"
      },
      "execution_count": null,
      "outputs": [
        {
          "output_type": "execute_result",
          "data": {
            "text/plain": [
              "{2, 3}"
            ]
          },
          "metadata": {},
          "execution_count": 49
        }
      ]
    },
    {
      "cell_type": "code",
      "source": [
        "#.21.Write a code to create a dictionary with the keys \"name\", \"age\", and \"city\", and print it.\n",
        "dict1={'name':'ab','age':'12','city':'24'}\n",
        "dict1"
      ],
      "metadata": {
        "colab": {
          "base_uri": "https://localhost:8080/"
        },
        "id": "DfHe_ZFPFe3L",
        "outputId": "6ba64f31-ca49-48de-ccf8-9d5b70529001"
      },
      "execution_count": null,
      "outputs": [
        {
          "output_type": "execute_result",
          "data": {
            "text/plain": [
              "{'name': 'ab', 'age': '12', 'city': '24'}"
            ]
          },
          "metadata": {},
          "execution_count": 50
        }
      ]
    },
    {
      "cell_type": "code",
      "source": [
        "#22. Write a code to add a new key-value pair \"country\": \"USA\" to the dictionary {'name': 'John', 'age': 25}.\n",
        "dict1= {'name': 'John', 'age': 25}\n",
        "dict2={\"country\": \"USA\"}\n",
        "dict1.update(dict2)\n",
        "dict1"
      ],
      "metadata": {
        "colab": {
          "base_uri": "https://localhost:8080/"
        },
        "id": "w98lflmxGCzF",
        "outputId": "41ef7c6b-a9e5-41d0-a454-69e9a44b06b6"
      },
      "execution_count": null,
      "outputs": [
        {
          "output_type": "execute_result",
          "data": {
            "text/plain": [
              "{'name': 'John', 'age': 25, 'country': 'USA'}"
            ]
          },
          "metadata": {},
          "execution_count": 53
        }
      ]
    },
    {
      "cell_type": "markdown",
      "source": [],
      "metadata": {
        "id": "fQUnNLjkAt2T"
      }
    },
    {
      "cell_type": "code",
      "source": [
        "#23. Write a code to access the value associated with the key \"name\" in the dictionary {'name': 'Alice', 'age': 30}.\n",
        "dict1={'name': 'Alice', 'age': 30}\n",
        "print(dict1[\"name\"])"
      ],
      "metadata": {
        "colab": {
          "base_uri": "https://localhost:8080/"
        },
        "id": "FKNP9NiRHkEW",
        "outputId": "3263df1b-f5f8-4f25-c9e8-06cb62f9d076"
      },
      "execution_count": null,
      "outputs": [
        {
          "output_type": "stream",
          "name": "stdout",
          "text": [
            "Alice\n"
          ]
        }
      ]
    },
    {
      "cell_type": "code",
      "source": [
        "#24.Write a code to check if the key \"city\" exists in the dictionary {'name': 'Alice', 'city': 'Paris'}.\n",
        "dict1={'name': 'Alice', 'city': 'Paris'}\n",
        "\"city\"in dict1"
      ],
      "metadata": {
        "colab": {
          "base_uri": "https://localhost:8080/"
        },
        "id": "oPKBoKEaIiki",
        "outputId": "aeaa8662-6599-47c6-c55d-f1729b97f1c4"
      },
      "execution_count": null,
      "outputs": [
        {
          "output_type": "execute_result",
          "data": {
            "text/plain": [
              "True"
            ]
          },
          "metadata": {},
          "execution_count": 57
        }
      ]
    },
    {
      "cell_type": "code",
      "source": [
        "# 26.Write a code to create a list, a tuple, and a dictionary, and print them all.\n",
        "lst1=[1,2,3,4,5]\n",
        "tup=(1,2,3,4,5)\n",
        "dict1={\"name\":\"abc\",\"class\":10,\"age\":15}\n",
        "print(lst1,\"is a list\")\n",
        "print(tup,\"is a tuple\")\n",
        "print(dict1,\"is a dictionary\")"
      ],
      "metadata": {
        "colab": {
          "base_uri": "https://localhost:8080/"
        },
        "id": "lSIRua11JU6X",
        "outputId": "14e87806-df3f-4191-8717-d4bfae46e7bf"
      },
      "execution_count": null,
      "outputs": [
        {
          "output_type": "stream",
          "name": "stdout",
          "text": [
            "[1, 2, 3, 4, 5] is a list\n",
            "(1, 2, 3, 4, 5) is a tuple\n",
            "{'name': 'abc', 'class': 10, 'age': 15} is a dictionary\n"
          ]
        }
      ]
    },
    {
      "cell_type": "code",
      "source": [
        "#27.Write a code to create a list of 5 random numbers between 1 and 100, sort it in ascending order, and print the result.(replaced)\n",
        "import random\n",
        "\n",
        "list1 = [random.randint(1, 100) for _ in range(5)]\n",
        "list1.sort()\n",
        "print(list1)"
      ],
      "metadata": {
        "colab": {
          "base_uri": "https://localhost:8080/"
        },
        "id": "9N6clk5yKN55",
        "outputId": "18efafe6-2b92-41cd-f5f7-55c5cafacc43"
      },
      "execution_count": null,
      "outputs": [
        {
          "output_type": "stream",
          "name": "stdout",
          "text": [
            "[20, 42, 49, 58, 61]\n"
          ]
        }
      ]
    },
    {
      "cell_type": "code",
      "source": [
        "#28.Write a code to create a list with strings and print the element at the third index.\n",
        "str=['abc','def','rth','ghi']\n",
        "str[3]"
      ],
      "metadata": {
        "colab": {
          "base_uri": "https://localhost:8080/",
          "height": 36
        },
        "id": "S599z0WXLU97",
        "outputId": "f4f7ed7c-bba4-45f9-d72f-d01af13b3ff2"
      },
      "execution_count": null,
      "outputs": [
        {
          "output_type": "execute_result",
          "data": {
            "text/plain": [
              "'ghi'"
            ],
            "application/vnd.google.colaboratory.intrinsic+json": {
              "type": "string"
            }
          },
          "metadata": {},
          "execution_count": 65
        }
      ]
    },
    {
      "cell_type": "code",
      "source": [
        "#29. Write a code to combine two dictionaries into one and print the result.\n",
        "dict1={'name': 'Alice', 'city': 'Paris'}\n",
        "dict2={'Occ':'doctor','age':30}\n",
        "dict1.update(dict2)\n",
        "dict1\n",
        "\n"
      ],
      "metadata": {
        "colab": {
          "base_uri": "https://localhost:8080/"
        },
        "id": "R5Cr_y3HMV9p",
        "outputId": "efaa64e2-4176-4f2d-c8ed-018de0b2d20e"
      },
      "execution_count": null,
      "outputs": [
        {
          "output_type": "execute_result",
          "data": {
            "text/plain": [
              "{'name': 'Alice', 'city': 'Paris', 'Occ': 'doctor', 'age': 30}"
            ]
          },
          "metadata": {},
          "execution_count": 66
        }
      ]
    },
    {
      "cell_type": "code",
      "source": [
        "#30. Write a code to convert a list of strings into a set.\n",
        "str=['abc','def','rth','ghi']\n",
        "set1=set(str)\n",
        "set1"
      ],
      "metadata": {
        "colab": {
          "base_uri": "https://localhost:8080/"
        },
        "id": "p87-EaVOM9HC",
        "outputId": "e5c9bb3e-485f-4495-e4df-315ab70dcf99"
      },
      "execution_count": null,
      "outputs": [
        {
          "output_type": "execute_result",
          "data": {
            "text/plain": [
              "{'abc', 'def', 'ghi', 'rth'}"
            ]
          },
          "metadata": {},
          "execution_count": 67
        }
      ]
    }
  ]
}